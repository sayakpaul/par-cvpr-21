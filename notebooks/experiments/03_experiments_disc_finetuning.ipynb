{
  "nbformat": 4,
  "nbformat_minor": 0,
  "metadata": {
    "colab": {
      "name": "03_experiments_disc_finetuning.ipynb",
      "provenance": [],
      "collapsed_sections": [],
      "authorship_tag": "ABX9TyM+TeBqtSrSCCJZaOAah596"
    },
    "kernelspec": {
      "name": "python3",
      "display_name": "Python 3"
    },
    "accelerator": "GPU"
  },
  "cells": [
    {
      "cell_type": "markdown",
      "metadata": {
        "id": "sT5wNBc0ljPR"
      },
      "source": [
        "This notebook experiments with the idea of **discriminator fine-tuning**. The idea is simple - \n",
        "\n",
        "* First, train a GAN on the *unlabeled* version of the dataset with which you would like to conduct adversarial training as well. \n",
        "* We then construct a perturbed version of the original dataset as shown in [this notebook](https://github.com/dipanjanS/adversarial-learning-robustness/blob/main/tutorials/adversarial_training/01_1_adv_training_scratch.ipynb).\n",
        "* We then use the pre-trained discriminator to test its generalizability to this newly created dataset. \n",
        "\n",
        "A pictorial depiction of these steps has been shown in the figure below - \n",
        "\n",
        "<br>\n",
        "<center>\n",
        "<img src = \"https://i.ibb.co/DV6LsMC/image.png\"></img>\n",
        "</center>"
      ]
    },
    {
      "cell_type": "markdown",
      "metadata": {
        "id": "mZXJkdE_3Hm2"
      },
      "source": [
        "## Initial Setup"
      ]
    },
    {
      "cell_type": "code",
      "metadata": {
        "id": "L3ofyfk6HmPA",
        "outputId": "a5b92740-92a0-4105-ad0d-59fbfc221607",
        "colab": {
          "base_uri": "https://localhost:8080/"
        }
      },
      "source": [
        "# To prevent unnecessary warnings\n",
        "import warnings\n",
        "warnings.simplefilter(action='ignore', category=FutureWarning)\n",
        "\n",
        "# TensorFlow and tf.keras\n",
        "import tensorflow as tf\n",
        "\n",
        "# Helper libraries\n",
        "from sklearn.metrics import confusion_matrix, classification_report\n",
        "from tqdm import tqdm\n",
        "import matplotlib.pyplot as plt\n",
        "import pandas as pd\n",
        "import numpy as np\n",
        "\n",
        "print(tf.__version__)"
      ],
      "execution_count": null,
      "outputs": [
        {
          "output_type": "stream",
          "text": [
            "2.3.0\n"
          ],
          "name": "stdout"
        }
      ]
    },
    {
      "cell_type": "markdown",
      "metadata": {
        "id": "ihyws2J83MOH"
      },
      "source": [
        "## Dataset Collection and Preprocessing"
      ]
    },
    {
      "cell_type": "code",
      "metadata": {
        "id": "DE24HyiTHwUm",
        "outputId": "e468dcd3-700f-46e5-8cf5-55b6e511e68e",
        "colab": {
          "base_uri": "https://localhost:8080/"
        }
      },
      "source": [
        "fashion_mnist = tf.keras.datasets.fashion_mnist\n",
        "(train_images, train_labels), (test_images, test_labels) = fashion_mnist.load_data()\n",
        "\n",
        "class_names = ['T-shirt/top', 'Trouser', 'Pullover', 'Dress', 'Coat',\n",
        "               'Sandal', 'Shirt', 'Sneaker', 'Bag', 'Ankle boot']\n",
        "\n",
        "print('\\nTrain_images.shape: {}, of {}'.format(train_images.shape, train_images.dtype))\n",
        "print('Test_images.shape: {}, of {}'.format(test_images.shape, test_images.dtype))"
      ],
      "execution_count": null,
      "outputs": [
        {
          "output_type": "stream",
          "text": [
            "Downloading data from https://storage.googleapis.com/tensorflow/tf-keras-datasets/train-labels-idx1-ubyte.gz\n",
            "32768/29515 [=================================] - 0s 0us/step\n",
            "Downloading data from https://storage.googleapis.com/tensorflow/tf-keras-datasets/train-images-idx3-ubyte.gz\n",
            "26427392/26421880 [==============================] - 1s 0us/step\n",
            "Downloading data from https://storage.googleapis.com/tensorflow/tf-keras-datasets/t10k-labels-idx1-ubyte.gz\n",
            "8192/5148 [===============================================] - 0s 0us/step\n",
            "Downloading data from https://storage.googleapis.com/tensorflow/tf-keras-datasets/t10k-images-idx3-ubyte.gz\n",
            "4423680/4422102 [==============================] - 0s 0us/step\n",
            "\n",
            "Train_images.shape: (60000, 28, 28), of uint8\n",
            "Test_images.shape: (10000, 28, 28), of uint8\n"
          ],
          "name": "stdout"
        }
      ]
    },
    {
      "cell_type": "code",
      "metadata": {
        "id": "3G2wmeV3H0LO"
      },
      "source": [
        "# Add channel dimension\n",
        "train_images = np.expand_dims(train_images, -1) \n",
        "test_images = np.expand_dims(test_images, -1) \n",
        "\n",
        "# Our GAN was trained on images that were normalized to the\n",
        "# range of [-1, 1], so we need to follow same preprocessing steps\n",
        "train_images = train_images - 127.5 / 127.5\n",
        "test_images = test_images - 127.5 / 127.5"
      ],
      "execution_count": null,
      "outputs": []
    },
    {
      "cell_type": "markdown",
      "metadata": {
        "id": "kIQrONWa3aaU"
      },
      "source": [
        "## Model Building Utilities"
      ]
    },
    {
      "cell_type": "code",
      "metadata": {
        "id": "KIwWkQEYH-c3",
        "outputId": "fb2b8533-af16-446d-9f60-744fee983928",
        "colab": {
          "base_uri": "https://localhost:8080/"
        }
      },
      "source": [
        "# define input shape\n",
        "INPUT_SHAPE = (28, 28, 1)\n",
        "\n",
        "def get_training_model(main_activation='relu'):\n",
        "    inputs = tf.keras.Input(shape=INPUT_SHAPE)\n",
        "    x = tf.keras.layers.Conv2D(32, (3, 3), strides=2, padding=\"same\", activation=main_activation)(inputs)\n",
        "    x = tf.keras.layers.MaxPool2D((2,2))(x)\n",
        "    x = tf.keras.layers.Conv2D(62, (3, 3), strides=2, padding=\"same\", activation=main_activation)(x)\n",
        "    x = tf.keras.layers.MaxPool2D((2,2))(x)\n",
        "    x = tf.keras.layers.Flatten()(x)\n",
        "    x = tf.keras.layers.Dense(256)(x)\n",
        "    outputs = tf.keras.layers.Dense(10)(x)\n",
        "    model = tf.keras.Model(inputs=inputs, outputs=outputs)\n",
        "    return model\n",
        "\n",
        "get_training_model().summary()"
      ],
      "execution_count": null,
      "outputs": [
        {
          "output_type": "stream",
          "text": [
            "Model: \"functional_1\"\n",
            "_________________________________________________________________\n",
            "Layer (type)                 Output Shape              Param #   \n",
            "=================================================================\n",
            "input_1 (InputLayer)         [(None, 28, 28, 1)]       0         \n",
            "_________________________________________________________________\n",
            "conv2d (Conv2D)              (None, 14, 14, 32)        320       \n",
            "_________________________________________________________________\n",
            "max_pooling2d (MaxPooling2D) (None, 7, 7, 32)          0         \n",
            "_________________________________________________________________\n",
            "conv2d_1 (Conv2D)            (None, 4, 4, 62)          17918     \n",
            "_________________________________________________________________\n",
            "max_pooling2d_1 (MaxPooling2 (None, 2, 2, 62)          0         \n",
            "_________________________________________________________________\n",
            "flatten (Flatten)            (None, 248)               0         \n",
            "_________________________________________________________________\n",
            "dense (Dense)                (None, 256)               63744     \n",
            "_________________________________________________________________\n",
            "dense_1 (Dense)              (None, 10)                2570      \n",
            "=================================================================\n",
            "Total params: 84,552\n",
            "Trainable params: 84,552\n",
            "Non-trainable params: 0\n",
            "_________________________________________________________________\n"
          ],
          "name": "stdout"
        }
      ]
    },
    {
      "cell_type": "code",
      "metadata": {
        "id": "m_1MxoXVICYg"
      },
      "source": [
        "def plot_progress(hist):\n",
        "    plt.plot(hist.history[\"loss\"], label=\"train_loss\")\n",
        "    plt.plot(hist.history[\"val_loss\"], label=\"validation_loss\")\n",
        "    plt.plot(hist.history[\"accuracy\"], label=\"training_accuracy\")\n",
        "    plt.plot(hist.history[\"val_accuracy\"], label=\"validation_accuracy\")\n",
        "    plt.title(\"Training Progress\")\n",
        "    plt.ylabel(\"accuracy/loss\")\n",
        "    plt.xlabel(\"epoch\")\n",
        "    plt.legend(loc=\"upper left\")\n",
        "    plt.show()"
      ],
      "execution_count": null,
      "outputs": []
    },
    {
      "cell_type": "markdown",
      "metadata": {
        "id": "IJ_25H7L3i1t"
      },
      "source": [
        "## Train a Regular Image Classification Model"
      ]
    },
    {
      "cell_type": "code",
      "metadata": {
        "id": "rxTBrb8wIS8k"
      },
      "source": [
        "optimizer = tf.keras.optimizers.Adam(learning_rate=1e-3)\n",
        "loss_fn = tf.keras.losses.SparseCategoricalCrossentropy(from_logits=True)\n",
        "\n",
        "regular_model = get_training_model()\n",
        "regular_model.compile(loss=loss_fn, optimizer=optimizer, metrics=[\"accuracy\"])\n",
        "\n",
        "BATCH_SIZE = 64\n",
        "\n",
        "train_dataset = tf.data.Dataset.from_tensor_slices(\n",
        "    (train_images, train_labels)\n",
        ").shuffle(buffer_size=4096).batch(BATCH_SIZE)\n",
        "\n",
        "test_dataset = tf.data.Dataset.from_tensor_slices(\n",
        "    (test_images, test_labels)\n",
        ").batch(BATCH_SIZE)"
      ],
      "execution_count": null,
      "outputs": []
    },
    {
      "cell_type": "code",
      "metadata": {
        "id": "WNSlisSoIUJj",
        "outputId": "61334860-1b30-40ca-a4eb-a92f0c08d2ff",
        "colab": {
          "base_uri": "https://localhost:8080/",
          "height": 635
        }
      },
      "source": [
        "history = regular_model.fit(train_dataset, \n",
        "                            validation_data=test_dataset, \n",
        "                            epochs=10)\n",
        "plot_progress(history)"
      ],
      "execution_count": null,
      "outputs": [
        {
          "output_type": "stream",
          "text": [
            "Epoch 1/10\n",
            "938/938 [==============================] - 3s 3ms/step - loss: 0.7984 - accuracy: 0.7991 - val_loss: 0.4502 - val_accuracy: 0.8394\n",
            "Epoch 2/10\n",
            "938/938 [==============================] - 4s 4ms/step - loss: 0.3982 - accuracy: 0.8589 - val_loss: 0.4287 - val_accuracy: 0.8493\n",
            "Epoch 3/10\n",
            "938/938 [==============================] - 4s 4ms/step - loss: 0.3554 - accuracy: 0.8722 - val_loss: 0.4190 - val_accuracy: 0.8577\n",
            "Epoch 4/10\n",
            "938/938 [==============================] - 4s 4ms/step - loss: 0.3302 - accuracy: 0.8808 - val_loss: 0.3666 - val_accuracy: 0.8730\n",
            "Epoch 5/10\n",
            "938/938 [==============================] - 4s 4ms/step - loss: 0.3159 - accuracy: 0.8864 - val_loss: 0.3836 - val_accuracy: 0.8665\n",
            "Epoch 6/10\n",
            "938/938 [==============================] - 4s 4ms/step - loss: 0.2964 - accuracy: 0.8918 - val_loss: 0.3669 - val_accuracy: 0.8754\n",
            "Epoch 7/10\n",
            "938/938 [==============================] - 4s 4ms/step - loss: 0.2865 - accuracy: 0.8964 - val_loss: 0.3992 - val_accuracy: 0.8684\n",
            "Epoch 8/10\n",
            "938/938 [==============================] - 4s 4ms/step - loss: 0.2742 - accuracy: 0.9008 - val_loss: 0.3681 - val_accuracy: 0.8711\n",
            "Epoch 9/10\n",
            "938/938 [==============================] - 4s 4ms/step - loss: 0.2688 - accuracy: 0.9015 - val_loss: 0.3549 - val_accuracy: 0.8805\n",
            "Epoch 10/10\n",
            "938/938 [==============================] - 4s 4ms/step - loss: 0.2551 - accuracy: 0.9067 - val_loss: 0.3834 - val_accuracy: 0.8775\n"
          ],
          "name": "stdout"
        },
        {
          "output_type": "display_data",
          "data": {
            "image/png": "[encoded data removed]",
            "text/plain": [
              "<Figure size 432x288 with 1 Axes>"
            ]
          },
          "metadata": {
            "tags": [],
            "needs_background": "light"
          }
        }
      ]
    },
    {
      "cell_type": "code",
      "metadata": {
        "id": "y_zJDL4mIWcj",
        "outputId": "a6adffd9-b21d-4df4-a9d4-c32da88a505c",
        "colab": {
          "base_uri": "https://localhost:8080/",
          "height": 648
        }
      },
      "source": [
        "predictions = regular_model.predict(test_images)\n",
        "predictions = tf.nn.softmax(predictions)\n",
        "prediction_labels = np.argmax(predictions, axis=1)\n",
        "print(classification_report(test_labels, prediction_labels, target_names=class_names))\n",
        "pd.DataFrame(confusion_matrix(test_labels, prediction_labels), index=class_names, columns=class_names)"
      ],
      "execution_count": null,
      "outputs": [
        {
          "output_type": "stream",
          "text": [
            "              precision    recall  f1-score   support\n",
            "\n",
            " T-shirt/top       0.85      0.79      0.82      1000\n",
            "     Trouser       0.92      0.98      0.95      1000\n",
            "    Pullover       0.87      0.76      0.81      1000\n",
            "       Dress       0.91      0.83      0.87      1000\n",
            "        Coat       0.75      0.87      0.80      1000\n",
            "      Sandal       0.95      0.98      0.97      1000\n",
            "       Shirt       0.67      0.71      0.69      1000\n",
            "     Sneaker       0.95      0.93      0.94      1000\n",
            "         Bag       0.98      0.95      0.97      1000\n",
            "  Ankle boot       0.95      0.96      0.96      1000\n",
            "\n",
            "    accuracy                           0.88     10000\n",
            "   macro avg       0.88      0.88      0.88     10000\n",
            "weighted avg       0.88      0.88      0.88     10000\n",
            "\n"
          ],
          "name": "stdout"
        },
        {
          "output_type": "execute_result",
          "data": {
            "text/html": [
              "<div>\n",
              "<style scoped>\n",
              "    .dataframe tbody tr th:only-of-type {\n",
              "        vertical-align: middle;\n",
              "    }\n",
              "\n",
              "    .dataframe tbody tr th {\n",
              "        vertical-align: top;\n",
              "    }\n",
              "\n",
              "    .dataframe thead th {\n",
              "        text-align: right;\n",
              "    }\n",
              "</style>\n",
              "<table border=\"1\" class=\"dataframe\">\n",
              "  <thead>\n",
              "    <tr style=\"text-align: right;\">\n",
              "      <th></th>\n",
              "      <th>T-shirt/top</th>\n",
              "      <th>Trouser</th>\n",
              "      <th>Pullover</th>\n",
              "      <th>Dress</th>\n",
              "      <th>Coat</th>\n",
              "      <th>Sandal</th>\n",
              "      <th>Shirt</th>\n",
              "      <th>Sneaker</th>\n",
              "      <th>Bag</th>\n",
              "      <th>Ankle boot</th>\n",
              "    </tr>\n",
              "  </thead>\n",
              "  <tbody>\n",
              "    <tr>\n",
              "      <th>T-shirt/top</th>\n",
              "      <td>792</td>\n",
              "      <td>13</td>\n",
              "      <td>14</td>\n",
              "      <td>23</td>\n",
              "      <td>4</td>\n",
              "      <td>3</td>\n",
              "      <td>149</td>\n",
              "      <td>0</td>\n",
              "      <td>2</td>\n",
              "      <td>0</td>\n",
              "    </tr>\n",
              "    <tr>\n",
              "      <th>Trouser</th>\n",
              "      <td>1</td>\n",
              "      <td>984</td>\n",
              "      <td>3</td>\n",
              "      <td>5</td>\n",
              "      <td>3</td>\n",
              "      <td>1</td>\n",
              "      <td>2</td>\n",
              "      <td>0</td>\n",
              "      <td>1</td>\n",
              "      <td>0</td>\n",
              "    </tr>\n",
              "    <tr>\n",
              "      <th>Pullover</th>\n",
              "      <td>13</td>\n",
              "      <td>7</td>\n",
              "      <td>762</td>\n",
              "      <td>4</td>\n",
              "      <td>136</td>\n",
              "      <td>0</td>\n",
              "      <td>78</td>\n",
              "      <td>0</td>\n",
              "      <td>0</td>\n",
              "      <td>0</td>\n",
              "    </tr>\n",
              "    <tr>\n",
              "      <th>Dress</th>\n",
              "      <td>21</td>\n",
              "      <td>50</td>\n",
              "      <td>8</td>\n",
              "      <td>828</td>\n",
              "      <td>49</td>\n",
              "      <td>0</td>\n",
              "      <td>40</td>\n",
              "      <td>0</td>\n",
              "      <td>4</td>\n",
              "      <td>0</td>\n",
              "    </tr>\n",
              "    <tr>\n",
              "      <th>Coat</th>\n",
              "      <td>1</td>\n",
              "      <td>3</td>\n",
              "      <td>36</td>\n",
              "      <td>22</td>\n",
              "      <td>868</td>\n",
              "      <td>0</td>\n",
              "      <td>69</td>\n",
              "      <td>0</td>\n",
              "      <td>1</td>\n",
              "      <td>0</td>\n",
              "    </tr>\n",
              "    <tr>\n",
              "      <th>Sandal</th>\n",
              "      <td>0</td>\n",
              "      <td>0</td>\n",
              "      <td>0</td>\n",
              "      <td>0</td>\n",
              "      <td>0</td>\n",
              "      <td>981</td>\n",
              "      <td>0</td>\n",
              "      <td>10</td>\n",
              "      <td>0</td>\n",
              "      <td>9</td>\n",
              "    </tr>\n",
              "    <tr>\n",
              "      <th>Shirt</th>\n",
              "      <td>92</td>\n",
              "      <td>9</td>\n",
              "      <td>54</td>\n",
              "      <td>28</td>\n",
              "      <td>95</td>\n",
              "      <td>0</td>\n",
              "      <td>713</td>\n",
              "      <td>1</td>\n",
              "      <td>8</td>\n",
              "      <td>0</td>\n",
              "    </tr>\n",
              "    <tr>\n",
              "      <th>Sneaker</th>\n",
              "      <td>0</td>\n",
              "      <td>0</td>\n",
              "      <td>0</td>\n",
              "      <td>0</td>\n",
              "      <td>0</td>\n",
              "      <td>30</td>\n",
              "      <td>0</td>\n",
              "      <td>934</td>\n",
              "      <td>0</td>\n",
              "      <td>36</td>\n",
              "    </tr>\n",
              "    <tr>\n",
              "      <th>Bag</th>\n",
              "      <td>9</td>\n",
              "      <td>2</td>\n",
              "      <td>3</td>\n",
              "      <td>2</td>\n",
              "      <td>4</td>\n",
              "      <td>7</td>\n",
              "      <td>15</td>\n",
              "      <td>6</td>\n",
              "      <td>950</td>\n",
              "      <td>2</td>\n",
              "    </tr>\n",
              "    <tr>\n",
              "      <th>Ankle boot</th>\n",
              "      <td>0</td>\n",
              "      <td>0</td>\n",
              "      <td>0</td>\n",
              "      <td>0</td>\n",
              "      <td>0</td>\n",
              "      <td>8</td>\n",
              "      <td>1</td>\n",
              "      <td>28</td>\n",
              "      <td>0</td>\n",
              "      <td>963</td>\n",
              "    </tr>\n",
              "  </tbody>\n",
              "</table>\n",
              "</div>"
            ],
            "text/plain": [
              "             T-shirt/top  Trouser  Pullover  ...  Sneaker  Bag  Ankle boot\n",
              "T-shirt/top          792       13        14  ...        0    2           0\n",
              "Trouser                1      984         3  ...        0    1           0\n",
              "Pullover              13        7       762  ...        0    0           0\n",
              "Dress                 21       50         8  ...        0    4           0\n",
              "Coat                   1        3        36  ...        0    1           0\n",
              "Sandal                 0        0         0  ...       10    0           9\n",
              "Shirt                 92        9        54  ...        1    8           0\n",
              "Sneaker                0        0         0  ...      934    0          36\n",
              "Bag                    9        2         3  ...        6  950           2\n",
              "Ankle boot             0        0         0  ...       28    0         963\n",
              "\n",
              "[10 rows x 10 columns]"
            ]
          },
          "metadata": {
            "tags": []
          },
          "execution_count": 8
        }
      ]
    },
    {
      "cell_type": "markdown",
      "metadata": {
        "id": "jnO8itXA3nfv"
      },
      "source": [
        "## Creating the  Datasets (train + eval) Adversarial Training with FGSM"
      ]
    },
    {
      "cell_type": "code",
      "metadata": {
        "id": "M7F9eDCYIZeF"
      },
      "source": [
        "def get_model_preds(input_image, class_names_map, model):\n",
        "        logits = model.predict(input_image)\n",
        "        preds = tf.nn.softmax(logits)\n",
        "        top_idx = np.argsort(-preds)[0][0]\n",
        "        top_prob = -np.sort(-preds)[0][0]\n",
        "        top_class = np.array(class_names_map)[top_idx]\n",
        "        return top_class, top_prob\n",
        "\n",
        "\n",
        "def generate_adverarial_pattern(input_image, image_label_idx, model, loss_func):\n",
        "    with tf.GradientTape() as tape:\n",
        "        tape.watch(input_image)\n",
        "        prediction = model(input_image)\n",
        "        #prediction = tf.nn.softmax(prediction)\n",
        "        loss = loss_func(image_label_idx, prediction)\n",
        "    # Get the gradients of the loss w.r.t to the input image.\n",
        "    gradient = tape.gradient(loss, input_image)\n",
        "    # Get the sign of the gradients to create the perturbation\n",
        "    signed_grad = tf.sign(gradient)\n",
        "    return signed_grad"
      ],
      "execution_count": null,
      "outputs": []
    },
    {
      "cell_type": "code",
      "metadata": {
        "id": "6ZgCuZTdIjbr"
      },
      "source": [
        "# We want maximize the cross-entropy loss\n",
        "scc = tf.keras.losses.SparseCategoricalCrossentropy(from_logits=True)"
      ],
      "execution_count": null,
      "outputs": []
    },
    {
      "cell_type": "code",
      "metadata": {
        "id": "YVuZMTXrInZ-"
      },
      "source": [
        "def generate_perturbed_images(input_images, image_label_idxs, model, loss_func, eps=0.01):\n",
        "  perturbed_images = []\n",
        "  # don't use list on large data - used just to view fancy progress-bar\n",
        "  for image, label in tqdm(list(zip(input_images, image_label_idxs))): \n",
        "      image = tf.convert_to_tensor(np.array([image]))\n",
        "      adv_pattern = generate_adverarial_pattern(image, label, model, loss_func)\n",
        "      clip_adv_pattern = tf.clip_by_value(adv_pattern, clip_value_min=-1, clip_value_max=1.)\n",
        "      perturbed_img = image + (eps * clip_adv_pattern)\n",
        "      perturbed_img = tf.clip_by_value(perturbed_img, clip_value_min=-1, clip_value_max=1.)[0]\n",
        "      perturbed_images.append(perturbed_img)\n",
        "\n",
        "  return tf.convert_to_tensor(perturbed_images)"
      ],
      "execution_count": null,
      "outputs": []
    },
    {
      "cell_type": "code",
      "metadata": {
        "id": "q6izZ_hIIyPu",
        "outputId": "d610522d-ffa5-4429-880b-80a1ee610696",
        "colab": {
          "base_uri": "https://localhost:8080/"
        }
      },
      "source": [
        "perturbed_test_imgs = generate_perturbed_images(input_images=test_images, \n",
        "                                                image_label_idxs=test_labels, model=regular_model, \n",
        "                                                loss_func=scc, eps=0.05)"
      ],
      "execution_count": null,
      "outputs": [
        {
          "output_type": "stream",
          "text": [
            "100%|██████████| 10000/10000 [00:55<00:00, 178.69it/s]\n"
          ],
          "name": "stderr"
        }
      ]
    },
    {
      "cell_type": "markdown",
      "metadata": {
        "id": "OGUUAJR_3z7o"
      },
      "source": [
        "## Evaluating the Current Model on the Perturbed Test Set"
      ]
    },
    {
      "cell_type": "code",
      "metadata": {
        "id": "zX-CrHPHIy7f",
        "outputId": "01f3d3d1-f60d-46ff-8002-215ed8e29ef9",
        "colab": {
          "base_uri": "https://localhost:8080/",
          "height": 702
        }
      },
      "source": [
        "predictions = regular_model.predict(perturbed_test_imgs)\n",
        "predictions = tf.nn.softmax(predictions)\n",
        "prediction_labels = np.argmax(predictions, axis=1)\n",
        "print(classification_report(test_labels, prediction_labels, target_names=class_names))\n",
        "pd.DataFrame(confusion_matrix(test_labels, prediction_labels), index=class_names, columns=class_names)"
      ],
      "execution_count": null,
      "outputs": [
        {
          "output_type": "stream",
          "text": [
            "              precision    recall  f1-score   support\n",
            "\n",
            " T-shirt/top       0.85      0.27      0.41      1000\n",
            "     Trouser       0.04      0.01      0.01      1000\n",
            "    Pullover       0.00      0.00      0.00      1000\n",
            "       Dress       0.46      0.38      0.41      1000\n",
            "        Coat       0.00      0.00      0.00      1000\n",
            "      Sandal       0.20      0.81      0.32      1000\n",
            "       Shirt       0.00      0.00      0.00      1000\n",
            "     Sneaker       0.24      0.96      0.38      1000\n",
            "         Bag       0.04      0.01      0.02      1000\n",
            "  Ankle boot       0.70      0.14      0.23      1000\n",
            "\n",
            "    accuracy                           0.26     10000\n",
            "   macro avg       0.25      0.26      0.18     10000\n",
            "weighted avg       0.25      0.26      0.18     10000\n",
            "\n"
          ],
          "name": "stdout"
        },
        {
          "output_type": "stream",
          "text": [
            "/usr/local/lib/python3.6/dist-packages/sklearn/metrics/_classification.py:1272: UndefinedMetricWarning: Precision and F-score are ill-defined and being set to 0.0 in labels with no predicted samples. Use `zero_division` parameter to control this behavior.\n",
            "  _warn_prf(average, modifier, msg_start, len(result))\n"
          ],
          "name": "stderr"
        },
        {
          "output_type": "execute_result",
          "data": {
            "text/html": [
              "<div>\n",
              "<style scoped>\n",
              "    .dataframe tbody tr th:only-of-type {\n",
              "        vertical-align: middle;\n",
              "    }\n",
              "\n",
              "    .dataframe tbody tr th {\n",
              "        vertical-align: top;\n",
              "    }\n",
              "\n",
              "    .dataframe thead th {\n",
              "        text-align: right;\n",
              "    }\n",
              "</style>\n",
              "<table border=\"1\" class=\"dataframe\">\n",
              "  <thead>\n",
              "    <tr style=\"text-align: right;\">\n",
              "      <th></th>\n",
              "      <th>T-shirt/top</th>\n",
              "      <th>Trouser</th>\n",
              "      <th>Pullover</th>\n",
              "      <th>Dress</th>\n",
              "      <th>Coat</th>\n",
              "      <th>Sandal</th>\n",
              "      <th>Shirt</th>\n",
              "      <th>Sneaker</th>\n",
              "      <th>Bag</th>\n",
              "      <th>Ankle boot</th>\n",
              "    </tr>\n",
              "  </thead>\n",
              "  <tbody>\n",
              "    <tr>\n",
              "      <th>T-shirt/top</th>\n",
              "      <td>266</td>\n",
              "      <td>2</td>\n",
              "      <td>0</td>\n",
              "      <td>119</td>\n",
              "      <td>0</td>\n",
              "      <td>398</td>\n",
              "      <td>0</td>\n",
              "      <td>146</td>\n",
              "      <td>61</td>\n",
              "      <td>8</td>\n",
              "    </tr>\n",
              "    <tr>\n",
              "      <th>Trouser</th>\n",
              "      <td>1</td>\n",
              "      <td>8</td>\n",
              "      <td>0</td>\n",
              "      <td>57</td>\n",
              "      <td>0</td>\n",
              "      <td>824</td>\n",
              "      <td>0</td>\n",
              "      <td>33</td>\n",
              "      <td>76</td>\n",
              "      <td>1</td>\n",
              "    </tr>\n",
              "    <tr>\n",
              "      <th>Pullover</th>\n",
              "      <td>1</td>\n",
              "      <td>128</td>\n",
              "      <td>0</td>\n",
              "      <td>43</td>\n",
              "      <td>0</td>\n",
              "      <td>501</td>\n",
              "      <td>0</td>\n",
              "      <td>322</td>\n",
              "      <td>4</td>\n",
              "      <td>1</td>\n",
              "    </tr>\n",
              "    <tr>\n",
              "      <th>Dress</th>\n",
              "      <td>2</td>\n",
              "      <td>1</td>\n",
              "      <td>0</td>\n",
              "      <td>378</td>\n",
              "      <td>0</td>\n",
              "      <td>146</td>\n",
              "      <td>0</td>\n",
              "      <td>374</td>\n",
              "      <td>77</td>\n",
              "      <td>22</td>\n",
              "    </tr>\n",
              "    <tr>\n",
              "      <th>Coat</th>\n",
              "      <td>0</td>\n",
              "      <td>40</td>\n",
              "      <td>0</td>\n",
              "      <td>111</td>\n",
              "      <td>0</td>\n",
              "      <td>317</td>\n",
              "      <td>0</td>\n",
              "      <td>500</td>\n",
              "      <td>30</td>\n",
              "      <td>2</td>\n",
              "    </tr>\n",
              "    <tr>\n",
              "      <th>Sandal</th>\n",
              "      <td>0</td>\n",
              "      <td>0</td>\n",
              "      <td>0</td>\n",
              "      <td>0</td>\n",
              "      <td>0</td>\n",
              "      <td>805</td>\n",
              "      <td>0</td>\n",
              "      <td>194</td>\n",
              "      <td>0</td>\n",
              "      <td>1</td>\n",
              "    </tr>\n",
              "    <tr>\n",
              "      <th>Shirt</th>\n",
              "      <td>42</td>\n",
              "      <td>35</td>\n",
              "      <td>0</td>\n",
              "      <td>109</td>\n",
              "      <td>0</td>\n",
              "      <td>450</td>\n",
              "      <td>0</td>\n",
              "      <td>295</td>\n",
              "      <td>52</td>\n",
              "      <td>17</td>\n",
              "    </tr>\n",
              "    <tr>\n",
              "      <th>Sneaker</th>\n",
              "      <td>0</td>\n",
              "      <td>0</td>\n",
              "      <td>0</td>\n",
              "      <td>0</td>\n",
              "      <td>0</td>\n",
              "      <td>36</td>\n",
              "      <td>0</td>\n",
              "      <td>961</td>\n",
              "      <td>0</td>\n",
              "      <td>3</td>\n",
              "    </tr>\n",
              "    <tr>\n",
              "      <th>Bag</th>\n",
              "      <td>1</td>\n",
              "      <td>2</td>\n",
              "      <td>0</td>\n",
              "      <td>8</td>\n",
              "      <td>0</td>\n",
              "      <td>255</td>\n",
              "      <td>0</td>\n",
              "      <td>721</td>\n",
              "      <td>11</td>\n",
              "      <td>2</td>\n",
              "    </tr>\n",
              "    <tr>\n",
              "      <th>Ankle boot</th>\n",
              "      <td>0</td>\n",
              "      <td>0</td>\n",
              "      <td>0</td>\n",
              "      <td>0</td>\n",
              "      <td>0</td>\n",
              "      <td>337</td>\n",
              "      <td>0</td>\n",
              "      <td>528</td>\n",
              "      <td>0</td>\n",
              "      <td>135</td>\n",
              "    </tr>\n",
              "  </tbody>\n",
              "</table>\n",
              "</div>"
            ],
            "text/plain": [
              "             T-shirt/top  Trouser  Pullover  ...  Sneaker  Bag  Ankle boot\n",
              "T-shirt/top          266        2         0  ...      146   61           8\n",
              "Trouser                1        8         0  ...       33   76           1\n",
              "Pullover               1      128         0  ...      322    4           1\n",
              "Dress                  2        1         0  ...      374   77          22\n",
              "Coat                   0       40         0  ...      500   30           2\n",
              "Sandal                 0        0         0  ...      194    0           1\n",
              "Shirt                 42       35         0  ...      295   52          17\n",
              "Sneaker                0        0         0  ...      961    0           3\n",
              "Bag                    1        2         0  ...      721   11           2\n",
              "Ankle boot             0        0         0  ...      528    0         135\n",
              "\n",
              "[10 rows x 10 columns]"
            ]
          },
          "metadata": {
            "tags": []
          },
          "execution_count": 13
        }
      ]
    },
    {
      "cell_type": "markdown",
      "metadata": {
        "id": "-vAFBh5Q3-5z"
      },
      "source": [
        "We see a performance drop from 88% to 26% when we introduced perturbation. "
      ]
    },
    {
      "cell_type": "markdown",
      "metadata": {
        "id": "fpSj_sBW4LZh"
      },
      "source": [
        "## Create the Final Training Dataset: Pertubed + Original"
      ]
    },
    {
      "cell_type": "code",
      "metadata": {
        "id": "TfZLtJroJDzg",
        "outputId": "f5afafe9-869f-43fe-878c-69a401ea8379",
        "colab": {
          "base_uri": "https://localhost:8080/"
        }
      },
      "source": [
        "perturbed_train_imgs = generate_perturbed_images(input_images=train_images, \n",
        "                                                image_label_idxs=train_labels, model=regular_model, \n",
        "                                                loss_func=scc, eps=0.05)"
      ],
      "execution_count": null,
      "outputs": [
        {
          "output_type": "stream",
          "text": [
            "100%|██████████| 60000/60000 [05:35<00:00, 178.72it/s]\n"
          ],
          "name": "stderr"
        }
      ]
    },
    {
      "cell_type": "code",
      "metadata": {
        "id": "_CvNs94UlF4R"
      },
      "source": [
        "train_dataset = tf.data.Dataset.from_tensor_slices(\n",
        "    (train_images, train_labels)\n",
        ")\n",
        "\n",
        "adv_train_dataset = tf.data.Dataset.from_tensor_slices(\n",
        "    (perturbed_train_imgs, train_labels)\n",
        ")\n",
        "\n",
        "final_dataset = adv_train_dataset.concatenate(train_dataset).shuffle(buffer_size=120000).batch(BATCH_SIZE)"
      ],
      "execution_count": null,
      "outputs": []
    },
    {
      "cell_type": "markdown",
      "metadata": {
        "id": "woRyijq24TBu"
      },
      "source": [
        "## Loading the Pre-trained Weights of Discriminator"
      ]
    },
    {
      "cell_type": "code",
      "metadata": {
        "id": "OcL-a7pHLtqP"
      },
      "source": [
        "# Discriminator\n",
        "# Reference: https://colab.research.google.com/github/sayakpaul/Image-Adversaries-101/blob/master/GANs_w_Adversaries.ipynb\n",
        "def disc_network():\n",
        "    disc = tf.keras.Sequential()\n",
        "    inputShape = (28, 28, 1)\n",
        "\n",
        "    disc.add(tf.keras.layers.Conv2D(32, (5, 5), padding=\"same\", strides=(2, 2),\n",
        "        input_shape=inputShape))\n",
        "    disc.add(tf.keras.layers.LeakyReLU(alpha=0.2))\n",
        "\n",
        "    disc.add(tf.keras.layers.Conv2D(64, (5, 5), padding=\"same\", strides=(2, 2)))\n",
        "    disc.add(tf.keras.layers.LeakyReLU(alpha=0.2))\n",
        "\n",
        "    disc.add(tf.keras.layers.Flatten())\n",
        "    disc.add(tf.keras.layers.Dense(512))\n",
        "    disc.add(tf.keras.layers.LeakyReLU(alpha=0.2))\n",
        "    disc.add(tf.keras.layers.Dropout(0.3))\n",
        "    disc.add(tf.keras.layers.Dense(1))\n",
        "    disc.add(tf.keras.layers.Activation(\"sigmoid\"))\n",
        "    \n",
        "    return disc"
      ],
      "execution_count": null,
      "outputs": []
    },
    {
      "cell_type": "code",
      "metadata": {
        "id": "3TNiuom9PZME"
      },
      "source": [
        "# Get the discriminator weights (model training  was done in the notebook mentioned above)\n",
        "!wget -q https://www.dropbox.com/s/n32doh46k72lw8r/disc_fashionmnist.h5"
      ],
      "execution_count": null,
      "outputs": []
    },
    {
      "cell_type": "code",
      "metadata": {
        "id": "qkuo2jr9OFww",
        "outputId": "07f7aa37-2b0d-4357-de90-679298b5025c",
        "colab": {
          "base_uri": "https://localhost:8080/"
        }
      },
      "source": [
        "discriminator = disc_network()\n",
        "discriminator.load_weights(\"disc_fashionmnist.h5\")\n",
        "discriminator.summary()"
      ],
      "execution_count": null,
      "outputs": [
        {
          "output_type": "stream",
          "text": [
            "Model: \"sequential\"\n",
            "_________________________________________________________________\n",
            "Layer (type)                 Output Shape              Param #   \n",
            "=================================================================\n",
            "conv2d_4 (Conv2D)            (None, 14, 14, 32)        832       \n",
            "_________________________________________________________________\n",
            "leaky_re_lu (LeakyReLU)      (None, 14, 14, 32)        0         \n",
            "_________________________________________________________________\n",
            "conv2d_5 (Conv2D)            (None, 7, 7, 64)          51264     \n",
            "_________________________________________________________________\n",
            "leaky_re_lu_1 (LeakyReLU)    (None, 7, 7, 64)          0         \n",
            "_________________________________________________________________\n",
            "flatten_2 (Flatten)          (None, 3136)              0         \n",
            "_________________________________________________________________\n",
            "dense_4 (Dense)              (None, 512)               1606144   \n",
            "_________________________________________________________________\n",
            "leaky_re_lu_2 (LeakyReLU)    (None, 512)               0         \n",
            "_________________________________________________________________\n",
            "dropout (Dropout)            (None, 512)               0         \n",
            "_________________________________________________________________\n",
            "dense_5 (Dense)              (None, 1)                 513       \n",
            "_________________________________________________________________\n",
            "activation (Activation)      (None, 1)                 0         \n",
            "=================================================================\n",
            "Total params: 1,658,753\n",
            "Trainable params: 1,658,753\n",
            "Non-trainable params: 0\n",
            "_________________________________________________________________\n"
          ],
          "name": "stdout"
        }
      ]
    },
    {
      "cell_type": "markdown",
      "metadata": {
        "id": "4SJ5TtO34ZF8"
      },
      "source": [
        "## Create a Custom Model with the Pre-trained Discriminator Weights"
      ]
    },
    {
      "cell_type": "code",
      "metadata": {
        "id": "pX5-igJhgqkV",
        "outputId": "5974222d-b94b-411c-ec8c-9e65befa5b10",
        "colab": {
          "base_uri": "https://localhost:8080/"
        }
      },
      "source": [
        "custom_model = tf.keras.Model(discriminator.input, discriminator.layers[-4].output)\n",
        "custom_model.summary()"
      ],
      "execution_count": null,
      "outputs": [
        {
          "output_type": "stream",
          "text": [
            "Model: \"functional_5\"\n",
            "_________________________________________________________________\n",
            "Layer (type)                 Output Shape              Param #   \n",
            "=================================================================\n",
            "conv2d_4_input (InputLayer)  [(None, 28, 28, 1)]       0         \n",
            "_________________________________________________________________\n",
            "conv2d_4 (Conv2D)            (None, 14, 14, 32)        832       \n",
            "_________________________________________________________________\n",
            "leaky_re_lu (LeakyReLU)      (None, 14, 14, 32)        0         \n",
            "_________________________________________________________________\n",
            "conv2d_5 (Conv2D)            (None, 7, 7, 64)          51264     \n",
            "_________________________________________________________________\n",
            "leaky_re_lu_1 (LeakyReLU)    (None, 7, 7, 64)          0         \n",
            "_________________________________________________________________\n",
            "flatten_2 (Flatten)          (None, 3136)              0         \n",
            "_________________________________________________________________\n",
            "dense_4 (Dense)              (None, 512)               1606144   \n",
            "_________________________________________________________________\n",
            "leaky_re_lu_2 (LeakyReLU)    (None, 512)               0         \n",
            "=================================================================\n",
            "Total params: 1,658,240\n",
            "Trainable params: 1,658,240\n",
            "Non-trainable params: 0\n",
            "_________________________________________________________________\n"
          ],
          "name": "stdout"
        }
      ]
    },
    {
      "cell_type": "code",
      "metadata": {
        "id": "geY7Kl70ieJm",
        "outputId": "2aa4c0c3-0b83-4035-8d62-3b8a40ab6dbf",
        "colab": {
          "base_uri": "https://localhost:8080/"
        }
      },
      "source": [
        "# First, we just warm up the training keeping the pre-trained weights\n",
        "# of the discriminator to non-trainable\n",
        "custom_model.trainable = False\n",
        "inputs = tf.keras.layers.Input((28, 28, 1))\n",
        "x = custom_model(inputs, training=False)\n",
        "outputs = tf.keras.layers.Dense(10)(x)\n",
        "model = tf.keras.Model(inputs, outputs)\n",
        "model.summary()"
      ],
      "execution_count": null,
      "outputs": [
        {
          "output_type": "stream",
          "text": [
            "Model: \"functional_9\"\n",
            "_________________________________________________________________\n",
            "Layer (type)                 Output Shape              Param #   \n",
            "=================================================================\n",
            "input_6 (InputLayer)         [(None, 28, 28, 1)]       0         \n",
            "_________________________________________________________________\n",
            "functional_5 (Functional)    (None, 512)               1658240   \n",
            "_________________________________________________________________\n",
            "dense_8 (Dense)              (None, 10)                5130      \n",
            "=================================================================\n",
            "Total params: 1,663,370\n",
            "Trainable params: 5,130\n",
            "Non-trainable params: 1,658,240\n",
            "_________________________________________________________________\n"
          ],
          "name": "stdout"
        }
      ]
    },
    {
      "cell_type": "markdown",
      "metadata": {
        "id": "8uQEzymD4skY"
      },
      "source": [
        "## Training our Custom Model and Evaluation"
      ]
    },
    {
      "cell_type": "code",
      "metadata": {
        "id": "FHUJg00sk_vS"
      },
      "source": [
        "optimizer = tf.keras.optimizers.Adam(learning_rate=1e-3)\n",
        "loss_fn = tf.keras.losses.SparseCategoricalCrossentropy(from_logits=True)\n",
        "\n",
        "model.compile(loss=loss_fn, optimizer=optimizer, metrics=[\"accuracy\"])"
      ],
      "execution_count": null,
      "outputs": []
    },
    {
      "cell_type": "code",
      "metadata": {
        "id": "MRsVvOODjbLl",
        "outputId": "0ae19d27-e483-4836-a786-4d358eadced0",
        "colab": {
          "base_uri": "https://localhost:8080/",
          "height": 635
        }
      },
      "source": [
        "# Set up an early stopping callback to prevent overfitting\n",
        "es = tf.keras.callbacks.EarlyStopping(monitor='val_loss', patience=5, restore_best_weights=True)\n",
        "\n",
        "# We resume the training of our regular model\n",
        "history = model.fit(final_dataset, \n",
        "                            validation_data=test_dataset, \n",
        "                            epochs=10,\n",
        "                            callbacks=[es])\n",
        "plot_progress(history)"
      ],
      "execution_count": null,
      "outputs": [
        {
          "output_type": "stream",
          "text": [
            "Epoch 1/10\n",
            "1875/1875 [==============================] - 5s 3ms/step - loss: 10.4191 - accuracy: 0.7484 - val_loss: 13.0921 - val_accuracy: 0.8081\n",
            "Epoch 2/10\n",
            "1875/1875 [==============================] - 5s 3ms/step - loss: 6.3651 - accuracy: 0.8007 - val_loss: 12.0708 - val_accuracy: 0.8201\n",
            "Epoch 3/10\n",
            "1875/1875 [==============================] - 5s 3ms/step - loss: 6.0445 - accuracy: 0.8064 - val_loss: 12.3685 - val_accuracy: 0.8357\n",
            "Epoch 4/10\n",
            "1875/1875 [==============================] - 5s 3ms/step - loss: 5.6910 - accuracy: 0.8130 - val_loss: 10.9165 - val_accuracy: 0.8524\n",
            "Epoch 5/10\n",
            "1875/1875 [==============================] - 5s 3ms/step - loss: 5.4705 - accuracy: 0.8155 - val_loss: 14.3170 - val_accuracy: 0.8098\n",
            "Epoch 6/10\n",
            "1875/1875 [==============================] - 5s 3ms/step - loss: 5.3029 - accuracy: 0.8202 - val_loss: 10.0819 - val_accuracy: 0.8416\n",
            "Epoch 7/10\n",
            "1875/1875 [==============================] - 5s 3ms/step - loss: 5.5539 - accuracy: 0.8192 - val_loss: 9.5333 - val_accuracy: 0.8451\n",
            "Epoch 8/10\n",
            "1875/1875 [==============================] - 5s 3ms/step - loss: 5.4111 - accuracy: 0.8221 - val_loss: 9.1608 - val_accuracy: 0.8534\n",
            "Epoch 9/10\n",
            "1875/1875 [==============================] - 5s 3ms/step - loss: 5.2954 - accuracy: 0.8234 - val_loss: 10.5971 - val_accuracy: 0.8303\n",
            "Epoch 10/10\n",
            "1875/1875 [==============================] - 5s 3ms/step - loss: 5.2904 - accuracy: 0.8245 - val_loss: 10.8088 - val_accuracy: 0.8329\n"
          ],
          "name": "stdout"
        },
        {
          "output_type": "display_data",
          "data": {
            "image/png": "[encoded data removed]",
            "text/plain": [
              "<Figure size 432x288 with 1 Axes>"
            ]
          },
          "metadata": {
            "tags": [],
            "needs_background": "light"
          }
        }
      ]
    },
    {
      "cell_type": "code",
      "metadata": {
        "id": "QtV7L9QBmQos",
        "outputId": "b5d90f24-e9ac-4f33-892e-5f05ef587497",
        "colab": {
          "base_uri": "https://localhost:8080/",
          "height": 648
        }
      },
      "source": [
        "predictions = model.predict(perturbed_test_imgs)\n",
        "predictions = tf.nn.softmax(predictions)\n",
        "prediction_labels = np.argmax(predictions, axis=1)\n",
        "print(classification_report(test_labels, prediction_labels, target_names=class_names))\n",
        "pd.DataFrame(confusion_matrix(test_labels, prediction_labels), index=class_names, columns=class_names)"
      ],
      "execution_count": null,
      "outputs": [
        {
          "output_type": "stream",
          "text": [
            "              precision    recall  f1-score   support\n",
            "\n",
            " T-shirt/top       0.84      0.64      0.73      1000\n",
            "     Trouser       0.98      0.95      0.97      1000\n",
            "    Pullover       0.61      0.69      0.65      1000\n",
            "       Dress       0.71      0.91      0.80      1000\n",
            "        Coat       0.62      0.64      0.63      1000\n",
            "      Sandal       0.97      0.90      0.93      1000\n",
            "       Shirt       0.54      0.41      0.47      1000\n",
            "     Sneaker       0.90      0.90      0.90      1000\n",
            "         Bag       0.87      0.96      0.91      1000\n",
            "  Ankle boot       0.90      0.96      0.93      1000\n",
            "\n",
            "    accuracy                           0.80     10000\n",
            "   macro avg       0.80      0.80      0.79     10000\n",
            "weighted avg       0.80      0.80      0.79     10000\n",
            "\n"
          ],
          "name": "stdout"
        },
        {
          "output_type": "execute_result",
          "data": {
            "text/html": [
              "<div>\n",
              "<style scoped>\n",
              "    .dataframe tbody tr th:only-of-type {\n",
              "        vertical-align: middle;\n",
              "    }\n",
              "\n",
              "    .dataframe tbody tr th {\n",
              "        vertical-align: top;\n",
              "    }\n",
              "\n",
              "    .dataframe thead th {\n",
              "        text-align: right;\n",
              "    }\n",
              "</style>\n",
              "<table border=\"1\" class=\"dataframe\">\n",
              "  <thead>\n",
              "    <tr style=\"text-align: right;\">\n",
              "      <th></th>\n",
              "      <th>T-shirt/top</th>\n",
              "      <th>Trouser</th>\n",
              "      <th>Pullover</th>\n",
              "      <th>Dress</th>\n",
              "      <th>Coat</th>\n",
              "      <th>Sandal</th>\n",
              "      <th>Shirt</th>\n",
              "      <th>Sneaker</th>\n",
              "      <th>Bag</th>\n",
              "      <th>Ankle boot</th>\n",
              "    </tr>\n",
              "  </thead>\n",
              "  <tbody>\n",
              "    <tr>\n",
              "      <th>T-shirt/top</th>\n",
              "      <td>638</td>\n",
              "      <td>1</td>\n",
              "      <td>20</td>\n",
              "      <td>114</td>\n",
              "      <td>3</td>\n",
              "      <td>0</td>\n",
              "      <td>199</td>\n",
              "      <td>0</td>\n",
              "      <td>25</td>\n",
              "      <td>0</td>\n",
              "    </tr>\n",
              "    <tr>\n",
              "      <th>Trouser</th>\n",
              "      <td>1</td>\n",
              "      <td>951</td>\n",
              "      <td>2</td>\n",
              "      <td>41</td>\n",
              "      <td>1</td>\n",
              "      <td>0</td>\n",
              "      <td>1</td>\n",
              "      <td>0</td>\n",
              "      <td>3</td>\n",
              "      <td>0</td>\n",
              "    </tr>\n",
              "    <tr>\n",
              "      <th>Pullover</th>\n",
              "      <td>20</td>\n",
              "      <td>4</td>\n",
              "      <td>686</td>\n",
              "      <td>13</td>\n",
              "      <td>204</td>\n",
              "      <td>0</td>\n",
              "      <td>58</td>\n",
              "      <td>0</td>\n",
              "      <td>15</td>\n",
              "      <td>0</td>\n",
              "    </tr>\n",
              "    <tr>\n",
              "      <th>Dress</th>\n",
              "      <td>16</td>\n",
              "      <td>6</td>\n",
              "      <td>8</td>\n",
              "      <td>914</td>\n",
              "      <td>21</td>\n",
              "      <td>0</td>\n",
              "      <td>27</td>\n",
              "      <td>0</td>\n",
              "      <td>8</td>\n",
              "      <td>0</td>\n",
              "    </tr>\n",
              "    <tr>\n",
              "      <th>Coat</th>\n",
              "      <td>2</td>\n",
              "      <td>3</td>\n",
              "      <td>194</td>\n",
              "      <td>81</td>\n",
              "      <td>642</td>\n",
              "      <td>0</td>\n",
              "      <td>56</td>\n",
              "      <td>0</td>\n",
              "      <td>22</td>\n",
              "      <td>0</td>\n",
              "    </tr>\n",
              "    <tr>\n",
              "      <th>Sandal</th>\n",
              "      <td>0</td>\n",
              "      <td>0</td>\n",
              "      <td>0</td>\n",
              "      <td>0</td>\n",
              "      <td>0</td>\n",
              "      <td>895</td>\n",
              "      <td>1</td>\n",
              "      <td>64</td>\n",
              "      <td>11</td>\n",
              "      <td>29</td>\n",
              "    </tr>\n",
              "    <tr>\n",
              "      <th>Shirt</th>\n",
              "      <td>80</td>\n",
              "      <td>2</td>\n",
              "      <td>203</td>\n",
              "      <td>101</td>\n",
              "      <td>151</td>\n",
              "      <td>0</td>\n",
              "      <td>412</td>\n",
              "      <td>0</td>\n",
              "      <td>48</td>\n",
              "      <td>3</td>\n",
              "    </tr>\n",
              "    <tr>\n",
              "      <th>Sneaker</th>\n",
              "      <td>0</td>\n",
              "      <td>0</td>\n",
              "      <td>0</td>\n",
              "      <td>0</td>\n",
              "      <td>0</td>\n",
              "      <td>12</td>\n",
              "      <td>0</td>\n",
              "      <td>904</td>\n",
              "      <td>4</td>\n",
              "      <td>80</td>\n",
              "    </tr>\n",
              "    <tr>\n",
              "      <th>Bag</th>\n",
              "      <td>2</td>\n",
              "      <td>2</td>\n",
              "      <td>3</td>\n",
              "      <td>15</td>\n",
              "      <td>6</td>\n",
              "      <td>8</td>\n",
              "      <td>7</td>\n",
              "      <td>1</td>\n",
              "      <td>956</td>\n",
              "      <td>0</td>\n",
              "    </tr>\n",
              "    <tr>\n",
              "      <th>Ankle boot</th>\n",
              "      <td>0</td>\n",
              "      <td>0</td>\n",
              "      <td>0</td>\n",
              "      <td>0</td>\n",
              "      <td>1</td>\n",
              "      <td>8</td>\n",
              "      <td>0</td>\n",
              "      <td>31</td>\n",
              "      <td>2</td>\n",
              "      <td>958</td>\n",
              "    </tr>\n",
              "  </tbody>\n",
              "</table>\n",
              "</div>"
            ],
            "text/plain": [
              "             T-shirt/top  Trouser  Pullover  ...  Sneaker  Bag  Ankle boot\n",
              "T-shirt/top          638        1        20  ...        0   25           0\n",
              "Trouser                1      951         2  ...        0    3           0\n",
              "Pullover              20        4       686  ...        0   15           0\n",
              "Dress                 16        6         8  ...        0    8           0\n",
              "Coat                   2        3       194  ...        0   22           0\n",
              "Sandal                 0        0         0  ...       64   11          29\n",
              "Shirt                 80        2       203  ...        0   48           3\n",
              "Sneaker                0        0         0  ...      904    4          80\n",
              "Bag                    2        2         3  ...        1  956           0\n",
              "Ankle boot             0        0         0  ...       31    2         958\n",
              "\n",
              "[10 rows x 10 columns]"
            ]
          },
          "metadata": {
            "tags": []
          },
          "execution_count": 30
        }
      ]
    },
    {
      "cell_type": "markdown",
      "metadata": {
        "id": "PC7shB4OpH8n"
      },
      "source": [
        "Let's see if performance can be improved with further fine-tuning. "
      ]
    },
    {
      "cell_type": "code",
      "metadata": {
        "id": "B2jvAptApKwl",
        "outputId": "e67e15e4-96eb-4ef2-9c42-241bef66eb29",
        "colab": {
          "base_uri": "https://localhost:8080/"
        }
      },
      "source": [
        "custom_model.trainable = True\n",
        "model.compile(loss=loss_fn, optimizer=optimizer, metrics=[\"accuracy\"])\n",
        "model.summary()"
      ],
      "execution_count": null,
      "outputs": [
        {
          "output_type": "stream",
          "text": [
            "Model: \"functional_9\"\n",
            "_________________________________________________________________\n",
            "Layer (type)                 Output Shape              Param #   \n",
            "=================================================================\n",
            "input_6 (InputLayer)         [(None, 28, 28, 1)]       0         \n",
            "_________________________________________________________________\n",
            "functional_5 (Functional)    (None, 512)               1658240   \n",
            "_________________________________________________________________\n",
            "dense_8 (Dense)              (None, 10)                5130      \n",
            "=================================================================\n",
            "Total params: 1,663,370\n",
            "Trainable params: 1,663,370\n",
            "Non-trainable params: 0\n",
            "_________________________________________________________________\n"
          ],
          "name": "stdout"
        }
      ]
    },
    {
      "cell_type": "code",
      "metadata": {
        "id": "t3L6bdt1pUlr",
        "outputId": "73510cbb-c88b-4ca0-93bf-d75613dc1af0",
        "colab": {
          "base_uri": "https://localhost:8080/",
          "height": 737
        }
      },
      "source": [
        "# Set up an early stopping callback to prevent overfitting\n",
        "es = tf.keras.callbacks.EarlyStopping(monitor='val_loss', patience=5, restore_best_weights=True)\n",
        "\n",
        "# We resume the training of our regular model\n",
        "history = model.fit(final_dataset, \n",
        "                            validation_data=test_dataset, \n",
        "                            epochs=15,\n",
        "                            callbacks=[es])\n",
        "plot_progress(history)"
      ],
      "execution_count": null,
      "outputs": [
        {
          "output_type": "stream",
          "text": [
            "Epoch 1/15\n",
            "1875/1875 [==============================] - 10s 5ms/step - loss: 4.7519 - accuracy: 0.8127 - val_loss: 2.7032 - val_accuracy: 0.8375\n",
            "Epoch 2/15\n",
            "1875/1875 [==============================] - 6s 3ms/step - loss: 1.2320 - accuracy: 0.8456 - val_loss: 1.8730 - val_accuracy: 0.8491\n",
            "Epoch 3/15\n",
            "1875/1875 [==============================] - 6s 3ms/step - loss: 0.9010 - accuracy: 0.8531 - val_loss: 1.3753 - val_accuracy: 0.8247\n",
            "Epoch 4/15\n",
            "1875/1875 [==============================] - 6s 3ms/step - loss: 0.7421 - accuracy: 0.8561 - val_loss: 0.9206 - val_accuracy: 0.8563\n",
            "Epoch 5/15\n",
            "1875/1875 [==============================] - 6s 3ms/step - loss: 0.6476 - accuracy: 0.8581 - val_loss: 0.8823 - val_accuracy: 0.8603\n",
            "Epoch 6/15\n",
            "1875/1875 [==============================] - 6s 3ms/step - loss: 0.5346 - accuracy: 0.8620 - val_loss: 0.9884 - val_accuracy: 0.8398\n",
            "Epoch 7/15\n",
            "1875/1875 [==============================] - 6s 3ms/step - loss: 0.5492 - accuracy: 0.8604 - val_loss: 0.9556 - val_accuracy: 0.8102\n",
            "Epoch 8/15\n",
            "1875/1875 [==============================] - 6s 3ms/step - loss: 0.5281 - accuracy: 0.8634 - val_loss: 0.6662 - val_accuracy: 0.8715\n",
            "Epoch 9/15\n",
            "1875/1875 [==============================] - 6s 3ms/step - loss: 0.4717 - accuracy: 0.8687 - val_loss: 0.8620 - val_accuracy: 0.8685\n",
            "Epoch 10/15\n",
            "1875/1875 [==============================] - 6s 3ms/step - loss: 0.4932 - accuracy: 0.8683 - val_loss: 0.8478 - val_accuracy: 0.8347\n",
            "Epoch 11/15\n",
            "1875/1875 [==============================] - 6s 3ms/step - loss: 0.4662 - accuracy: 0.8728 - val_loss: 0.9435 - val_accuracy: 0.8570\n",
            "Epoch 12/15\n",
            "1875/1875 [==============================] - 6s 3ms/step - loss: 0.4630 - accuracy: 0.8746 - val_loss: 0.7234 - val_accuracy: 0.8574\n",
            "Epoch 13/15\n",
            "1875/1875 [==============================] - 6s 3ms/step - loss: 0.4837 - accuracy: 0.8724 - val_loss: 0.7733 - val_accuracy: 0.8612\n"
          ],
          "name": "stdout"
        },
        {
          "output_type": "display_data",
          "data": {
            "image/png": "[encoded data removed]",
            "text/plain": [
              "<Figure size 432x288 with 1 Axes>"
            ]
          },
          "metadata": {
            "tags": [],
            "needs_background": "light"
          }
        }
      ]
    },
    {
      "cell_type": "markdown",
      "metadata": {
        "id": "pMbMUUq542Wk"
      },
      "source": [
        "Notice that the training has stabilized quite a bit after unfreezing the pre-trained weights of the discriminator. "
      ]
    },
    {
      "cell_type": "code",
      "metadata": {
        "id": "A14Lu_QGpyD4",
        "outputId": "7e45db7b-1527-43a3-b15a-b53e93b306d3",
        "colab": {
          "base_uri": "https://localhost:8080/",
          "height": 648
        }
      },
      "source": [
        "predictions = model.predict(perturbed_test_imgs)\n",
        "predictions = tf.nn.softmax(predictions)\n",
        "prediction_labels = np.argmax(predictions, axis=1)\n",
        "print(classification_report(test_labels, prediction_labels, target_names=class_names))\n",
        "pd.DataFrame(confusion_matrix(test_labels, prediction_labels), index=class_names, columns=class_names)"
      ],
      "execution_count": null,
      "outputs": [
        {
          "output_type": "stream",
          "text": [
            "              precision    recall  f1-score   support\n",
            "\n",
            " T-shirt/top       0.71      0.90      0.79      1000\n",
            "     Trouser       0.96      0.97      0.96      1000\n",
            "    Pullover       0.67      0.83      0.74      1000\n",
            "       Dress       0.88      0.86      0.87      1000\n",
            "        Coat       0.74      0.74      0.74      1000\n",
            "      Sandal       0.92      0.98      0.95      1000\n",
            "       Shirt       0.76      0.37      0.49      1000\n",
            "     Sneaker       0.97      0.89      0.92      1000\n",
            "         Bag       0.95      0.97      0.96      1000\n",
            "  Ankle boot       0.94      0.97      0.95      1000\n",
            "\n",
            "    accuracy                           0.85     10000\n",
            "   macro avg       0.85      0.85      0.84     10000\n",
            "weighted avg       0.85      0.85      0.84     10000\n",
            "\n"
          ],
          "name": "stdout"
        },
        {
          "output_type": "execute_result",
          "data": {
            "text/html": [
              "<div>\n",
              "<style scoped>\n",
              "    .dataframe tbody tr th:only-of-type {\n",
              "        vertical-align: middle;\n",
              "    }\n",
              "\n",
              "    .dataframe tbody tr th {\n",
              "        vertical-align: top;\n",
              "    }\n",
              "\n",
              "    .dataframe thead th {\n",
              "        text-align: right;\n",
              "    }\n",
              "</style>\n",
              "<table border=\"1\" class=\"dataframe\">\n",
              "  <thead>\n",
              "    <tr style=\"text-align: right;\">\n",
              "      <th></th>\n",
              "      <th>T-shirt/top</th>\n",
              "      <th>Trouser</th>\n",
              "      <th>Pullover</th>\n",
              "      <th>Dress</th>\n",
              "      <th>Coat</th>\n",
              "      <th>Sandal</th>\n",
              "      <th>Shirt</th>\n",
              "      <th>Sneaker</th>\n",
              "      <th>Bag</th>\n",
              "      <th>Ankle boot</th>\n",
              "    </tr>\n",
              "  </thead>\n",
              "  <tbody>\n",
              "    <tr>\n",
              "      <th>T-shirt/top</th>\n",
              "      <td>898</td>\n",
              "      <td>2</td>\n",
              "      <td>26</td>\n",
              "      <td>23</td>\n",
              "      <td>4</td>\n",
              "      <td>0</td>\n",
              "      <td>33</td>\n",
              "      <td>0</td>\n",
              "      <td>14</td>\n",
              "      <td>0</td>\n",
              "    </tr>\n",
              "    <tr>\n",
              "      <th>Trouser</th>\n",
              "      <td>5</td>\n",
              "      <td>974</td>\n",
              "      <td>4</td>\n",
              "      <td>10</td>\n",
              "      <td>3</td>\n",
              "      <td>0</td>\n",
              "      <td>1</td>\n",
              "      <td>1</td>\n",
              "      <td>2</td>\n",
              "      <td>0</td>\n",
              "    </tr>\n",
              "    <tr>\n",
              "      <th>Pullover</th>\n",
              "      <td>17</td>\n",
              "      <td>1</td>\n",
              "      <td>828</td>\n",
              "      <td>9</td>\n",
              "      <td>108</td>\n",
              "      <td>0</td>\n",
              "      <td>29</td>\n",
              "      <td>0</td>\n",
              "      <td>8</td>\n",
              "      <td>0</td>\n",
              "    </tr>\n",
              "    <tr>\n",
              "      <th>Dress</th>\n",
              "      <td>51</td>\n",
              "      <td>31</td>\n",
              "      <td>17</td>\n",
              "      <td>857</td>\n",
              "      <td>24</td>\n",
              "      <td>0</td>\n",
              "      <td>16</td>\n",
              "      <td>0</td>\n",
              "      <td>4</td>\n",
              "      <td>0</td>\n",
              "    </tr>\n",
              "    <tr>\n",
              "      <th>Coat</th>\n",
              "      <td>1</td>\n",
              "      <td>3</td>\n",
              "      <td>188</td>\n",
              "      <td>43</td>\n",
              "      <td>736</td>\n",
              "      <td>0</td>\n",
              "      <td>26</td>\n",
              "      <td>0</td>\n",
              "      <td>3</td>\n",
              "      <td>0</td>\n",
              "    </tr>\n",
              "    <tr>\n",
              "      <th>Sandal</th>\n",
              "      <td>0</td>\n",
              "      <td>0</td>\n",
              "      <td>0</td>\n",
              "      <td>0</td>\n",
              "      <td>0</td>\n",
              "      <td>976</td>\n",
              "      <td>0</td>\n",
              "      <td>12</td>\n",
              "      <td>0</td>\n",
              "      <td>12</td>\n",
              "    </tr>\n",
              "    <tr>\n",
              "      <th>Shirt</th>\n",
              "      <td>295</td>\n",
              "      <td>6</td>\n",
              "      <td>164</td>\n",
              "      <td>29</td>\n",
              "      <td>115</td>\n",
              "      <td>1</td>\n",
              "      <td>366</td>\n",
              "      <td>0</td>\n",
              "      <td>24</td>\n",
              "      <td>0</td>\n",
              "    </tr>\n",
              "    <tr>\n",
              "      <th>Sneaker</th>\n",
              "      <td>0</td>\n",
              "      <td>0</td>\n",
              "      <td>0</td>\n",
              "      <td>0</td>\n",
              "      <td>0</td>\n",
              "      <td>61</td>\n",
              "      <td>0</td>\n",
              "      <td>886</td>\n",
              "      <td>0</td>\n",
              "      <td>53</td>\n",
              "    </tr>\n",
              "    <tr>\n",
              "      <th>Bag</th>\n",
              "      <td>0</td>\n",
              "      <td>2</td>\n",
              "      <td>5</td>\n",
              "      <td>5</td>\n",
              "      <td>3</td>\n",
              "      <td>8</td>\n",
              "      <td>9</td>\n",
              "      <td>2</td>\n",
              "      <td>966</td>\n",
              "      <td>0</td>\n",
              "    </tr>\n",
              "    <tr>\n",
              "      <th>Ankle boot</th>\n",
              "      <td>0</td>\n",
              "      <td>0</td>\n",
              "      <td>0</td>\n",
              "      <td>0</td>\n",
              "      <td>0</td>\n",
              "      <td>10</td>\n",
              "      <td>0</td>\n",
              "      <td>17</td>\n",
              "      <td>1</td>\n",
              "      <td>972</td>\n",
              "    </tr>\n",
              "  </tbody>\n",
              "</table>\n",
              "</div>"
            ],
            "text/plain": [
              "             T-shirt/top  Trouser  Pullover  ...  Sneaker  Bag  Ankle boot\n",
              "T-shirt/top          898        2        26  ...        0   14           0\n",
              "Trouser                5      974         4  ...        1    2           0\n",
              "Pullover              17        1       828  ...        0    8           0\n",
              "Dress                 51       31        17  ...        0    4           0\n",
              "Coat                   1        3       188  ...        0    3           0\n",
              "Sandal                 0        0         0  ...       12    0          12\n",
              "Shirt                295        6       164  ...        0   24           0\n",
              "Sneaker                0        0         0  ...      886    0          53\n",
              "Bag                    0        2         5  ...        2  966           0\n",
              "Ankle boot             0        0         0  ...       17    1         972\n",
              "\n",
              "[10 rows x 10 columns]"
            ]
          },
          "metadata": {
            "tags": []
          },
          "execution_count": 33
        }
      ]
    }
  ]
}