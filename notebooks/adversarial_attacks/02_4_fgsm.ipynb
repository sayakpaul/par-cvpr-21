{
  "nbformat": 4,
  "nbformat_minor": 0,
  "metadata": {
    "colab": {
      "name": "02_4_fgsm.ipynb",
      "provenance": [],
      "collapsed_sections": []
    },
    "kernelspec": {
      "name": "python3",
      "display_name": "Python 3"
    },
    "accelerator": "GPU"
  },
  "cells": [
    {
      "cell_type": "markdown",
      "metadata": {
        "id": "7cQPzaBFEAPd"
      },
      "source": [
        "# Load Dependencies \n",
        "\n",
        "This leverages the __`tf.keras`__ API style and hence it is recommended you try this out on TensorFlow 2.x"
      ]
    },
    {
      "cell_type": "code",
      "metadata": {
        "id": "TqCXwKD1D3NH"
      },
      "source": [
        "# to prevent unnecessary warnings\n",
        "import warnings\n",
        "warnings.simplefilter(action='ignore', category=FutureWarning)\n",
        "\n",
        "# TensorFlow and tf.keras\n",
        "import tensorflow as tf\n",
        "\n",
        "# Helper libraries\n",
        "from sklearn.metrics import confusion_matrix, classification_report\n",
        "from tqdm import tqdm\n",
        "import matplotlib.pyplot as plt\n",
        "import pandas as pd\n",
        "import numpy as np\n",
        "\n",
        "print(tf.__version__)"
      ],
      "execution_count": null,
      "outputs": []
    },
    {
      "cell_type": "markdown",
      "metadata": {
        "id": "R8LTWH7sEasZ"
      },
      "source": [
        "# Main Objective — Building an Apparel Classifier & Perform Adversarial Learning \n",
        "\n",
        "- We will keep things simple here with regard to the key objective. We will build a simple apparel classifier by training models on the very famous [Fashion MNIST](https://github.com/zalandoresearch/fashion-mnist) dataset based on Zalando’s article images — consisting of a training set of 60,000 examples and a test set of 10,000 examples. Each example is a 28x28 grayscale image, associated with a label from 10 classes. The idea is to classify these images into an apparel category amongst 10 categories on which we will be training our models on.\n",
        "\n",
        "- The second main objective here is to perturb and add some intentional noise to these apparel images to try and fool our classification model.\n",
        "\n",
        "Here's an example how the data looks (each class takes three-rows):\n",
        "\n",
        "<table>\n",
        "  <tr><td>\n",
        "    <img src=\"https://raw.githubusercontent.com/zalandoresearch/fashion-mnist/master/doc/img/fashion-mnist-sprite.png\"\n",
        "         alt=\"Fashion MNIST sprite\"  width=\"600\">\n",
        "  </td></tr>\n",
        "  <tr><td align=\"center\">\n",
        "    <a href=\"https://github.com/zalandoresearch/fashion-mnist\">Fashion-MNIST samples</a> (by Zalando, MIT License).<br/>&nbsp;\n",
        "  </td></tr>\n",
        "</table>\n",
        "\n",
        "Fashion MNIST is intended as a drop-in replacement for the classic [MNIST](http://yann.lecun.com/exdb/mnist/) dataset—often used as the \"Hello, World\" of machine learning programs for computer vision. You can access the Fashion MNIST directly from TensorFlow.\n",
        "\n",
        "__Note:__ Although these are really images, they are loaded as NumPy arrays and not binary image objects."
      ]
    },
    {
      "cell_type": "markdown",
      "metadata": {
        "id": "vPfVIQjnEsIi"
      },
      "source": [
        "We will train a CNN (Convolutional Neural Network) classifiers in this notebook - \n",
        "- CNN trained on the regular training set images of FashionMNIST"
      ]
    },
    {
      "cell_type": "markdown",
      "metadata": {
        "id": "9Clkyn5-GPUZ"
      },
      "source": [
        "# Load Dataset\n",
        "Here we will leverage an out of the box dataset to keep things simple as we mentioned earlier by leveraging the Fashion-MNIST dataset."
      ]
    },
    {
      "cell_type": "code",
      "metadata": {
        "id": "7KED9nTeGQQJ",
        "outputId": "4d012e96-537a-49d4-da6d-62a14ec448b9",
        "colab": {
          "base_uri": "https://localhost:8080/",
          "height": 68
        }
      },
      "source": [
        "fashion_mnist = tf.keras.datasets.fashion_mnist\n",
        "(train_images, train_labels), (test_images, test_labels) = fashion_mnist.load_data()\n",
        "\n",
        "class_names = ['T-shirt/top', 'Trouser', 'Pullover', 'Dress', 'Coat',\n",
        "               'Sandal', 'Shirt', 'Sneaker', 'Bag', 'Ankle boot']\n",
        "\n",
        "print('\\nTrain_images.shape: {}, of {}'.format(train_images.shape, train_images.dtype))\n",
        "print('Test_images.shape: {}, of {}'.format(test_images.shape, test_images.dtype))"
      ],
      "execution_count": null,
      "outputs": [
        {
          "output_type": "stream",
          "text": [
            "\n",
            "Train_images.shape: (60000, 28, 28), of uint8\n",
            "Test_images.shape: (10000, 28, 28), of uint8\n"
          ],
          "name": "stdout"
        }
      ]
    },
    {
      "cell_type": "markdown",
      "metadata": {
        "id": "x1GNZbzTFRqw"
      },
      "source": [
        "# Training a Shallow CNN on the FashionMNIST dataset\n",
        "\n",
        "In this phase, we will __not__ be using any adversarial perturbations. "
      ]
    },
    {
      "cell_type": "markdown",
      "metadata": {
        "id": "6hAGYEgJFiBw"
      },
      "source": [
        "## Reshaping Image Data for Modeling\n",
        "\n",
        "We need to add a channel dimension to our dataset otherwise convolution layers won't work. We also scale the pixel values to [0, 1] range. "
      ]
    },
    {
      "cell_type": "code",
      "metadata": {
        "id": "Z8XBfDwhEH-R"
      },
      "source": [
        "train_images = np.expand_dims(train_images, -1) / 255.\n",
        "test_images = np.expand_dims(test_images, -1) / 255."
      ],
      "execution_count": null,
      "outputs": []
    },
    {
      "cell_type": "markdown",
      "metadata": {
        "id": "8kRaiO05GZ24"
      },
      "source": [
        "## View Sample Data"
      ]
    },
    {
      "cell_type": "code",
      "metadata": {
        "id": "6l4Kljq8GJH3",
        "outputId": "1426d61a-3352-4428-a75d-55e5cb0c26ac",
        "colab": {
          "base_uri": "https://localhost:8080/",
          "height": 357
        }
      },
      "source": [
        "fig, ax = plt.subplots(2, 5, figsize=(12, 6))\n",
        "c = 0\n",
        "for i in range(10):\n",
        "    idx = i // 5\n",
        "    idy = i % 5 \n",
        "    ax[idx, idy].imshow(train_images[i].squeeze(), cmap=\"gray\")\n",
        "    ax[idx, idy].set_title(class_names[train_labels[i]])"
      ],
      "execution_count": null,
      "outputs": [
        {
          "output_type": "display_data",
          "data": {
            "image/png": "[encoded data removed]",
            "text/plain": [
              "<Figure size 864x432 with 10 Axes>"
            ]
          },
          "metadata": {
            "tags": [],
            "needs_background": "light"
          }
        }
      ]
    },
    {
      "cell_type": "markdown",
      "metadata": {
        "id": "utN54DbPGlOZ"
      },
      "source": [
        "## Model Utils"
      ]
    },
    {
      "cell_type": "code",
      "metadata": {
        "id": "zAnGagwVGe35",
        "outputId": "bbd0a66e-2891-4ea0-976f-888d74e21543",
        "colab": {
          "base_uri": "https://localhost:8080/",
          "height": 425
        }
      },
      "source": [
        "# define input shape\n",
        "INPUT_SHAPE = (28, 28, 1)\n",
        "\n",
        "def get_training_model(main_activation='relu'):\n",
        "    inputs = tf.keras.Input(shape=INPUT_SHAPE)\n",
        "    x = tf.keras.layers.Conv2D(32, (3, 3), strides=2, padding=\"same\", activation=main_activation)(inputs)\n",
        "    x = tf.keras.layers.MaxPool2D((2,2))(x)\n",
        "    x = tf.keras.layers.Conv2D(62, (3, 3), strides=2, padding=\"same\", activation=main_activation)(x)\n",
        "    x = tf.keras.layers.MaxPool2D((2,2))(x)\n",
        "    x = tf.keras.layers.Flatten()(x)\n",
        "    x = tf.keras.layers.Dense(256)(x)\n",
        "    outputs = tf.keras.layers.Dense(10)(x)\n",
        "    model = tf.keras.Model(inputs=inputs, outputs=outputs)\n",
        "    return model\n",
        "\n",
        "get_training_model().summary()"
      ],
      "execution_count": null,
      "outputs": [
        {
          "output_type": "stream",
          "text": [
            "Model: \"functional_1\"\n",
            "_________________________________________________________________\n",
            "Layer (type)                 Output Shape              Param #   \n",
            "=================================================================\n",
            "input_1 (InputLayer)         [(None, 28, 28, 1)]       0         \n",
            "_________________________________________________________________\n",
            "conv2d (Conv2D)              (None, 14, 14, 32)        320       \n",
            "_________________________________________________________________\n",
            "max_pooling2d (MaxPooling2D) (None, 7, 7, 32)          0         \n",
            "_________________________________________________________________\n",
            "conv2d_1 (Conv2D)            (None, 4, 4, 62)          17918     \n",
            "_________________________________________________________________\n",
            "max_pooling2d_1 (MaxPooling2 (None, 2, 2, 62)          0         \n",
            "_________________________________________________________________\n",
            "flatten (Flatten)            (None, 248)               0         \n",
            "_________________________________________________________________\n",
            "dense (Dense)                (None, 256)               63744     \n",
            "_________________________________________________________________\n",
            "dense_1 (Dense)              (None, 10)                2570      \n",
            "=================================================================\n",
            "Total params: 84,552\n",
            "Trainable params: 84,552\n",
            "Non-trainable params: 0\n",
            "_________________________________________________________________\n"
          ],
          "name": "stdout"
        }
      ]
    },
    {
      "cell_type": "code",
      "metadata": {
        "id": "OT26BASCH8st"
      },
      "source": [
        "def plot_progress(hist):\n",
        "    plt.plot(hist.history[\"loss\"], label=\"train_loss\")\n",
        "    plt.plot(hist.history[\"val_loss\"], label=\"validation_loss\")\n",
        "    plt.plot(hist.history[\"accuracy\"], label=\"training_accuracy\")\n",
        "    plt.plot(hist.history[\"val_accuracy\"], label=\"validation_accuracy\")\n",
        "    plt.title(\"Training Progress\")\n",
        "    plt.ylabel(\"accuracy/loss\")\n",
        "    plt.xlabel(\"epoch\")\n",
        "    plt.legend(loc=\"upper left\")\n",
        "    plt.show()"
      ],
      "execution_count": null,
      "outputs": []
    },
    {
      "cell_type": "markdown",
      "metadata": {
        "id": "QcgL_3UBHAo0"
      },
      "source": [
        "## Optimizer, Loss, and TensorFlow Dataset"
      ]
    },
    {
      "cell_type": "code",
      "metadata": {
        "id": "OK6v0FiNG7l-"
      },
      "source": [
        "optimizer = tf.keras.optimizers.Adam(learning_rate=1e-3)\n",
        "loss_fn = tf.keras.losses.SparseCategoricalCrossentropy(from_logits=True)\n",
        "\n",
        "regular_model = get_training_model()\n",
        "regular_model.compile(loss=loss_fn, optimizer=optimizer, metrics=[\"accuracy\"])\n",
        "\n",
        "BATCH_SIZE = 64\n",
        "\n",
        "train_dataset = tf.data.Dataset.from_tensor_slices(\n",
        "    (train_images, train_labels)\n",
        ").shuffle(buffer_size=4096).batch(BATCH_SIZE)\n",
        "\n",
        "test_dataset = tf.data.Dataset.from_tensor_slices(\n",
        "    (test_images, test_labels)\n",
        ").batch(BATCH_SIZE)"
      ],
      "execution_count": null,
      "outputs": []
    },
    {
      "cell_type": "markdown",
      "metadata": {
        "id": "xcYSHHsIHsV6"
      },
      "source": [
        "## Model Training"
      ]
    },
    {
      "cell_type": "code",
      "metadata": {
        "id": "k1v2YZXNHe0X",
        "outputId": "cbf8fcaf-6d81-4a48-fb6c-d29d535e1a93",
        "colab": {
          "base_uri": "https://localhost:8080/",
          "height": 635
        }
      },
      "source": [
        "history = regular_model.fit(train_dataset, \n",
        "                            validation_data=test_dataset, \n",
        "                            epochs=10)\n",
        "plot_progress(history)"
      ],
      "execution_count": null,
      "outputs": [
        {
          "output_type": "stream",
          "text": [
            "Epoch 1/10\n",
            "938/938 [==============================] - 3s 3ms/step - loss: 0.5556 - accuracy: 0.7993 - val_loss: 0.4227 - val_accuracy: 0.8495\n",
            "Epoch 2/10\n",
            "938/938 [==============================] - 4s 5ms/step - loss: 0.3663 - accuracy: 0.8694 - val_loss: 0.3636 - val_accuracy: 0.8675\n",
            "Epoch 3/10\n",
            "938/938 [==============================] - 4s 4ms/step - loss: 0.3208 - accuracy: 0.8846 - val_loss: 0.3506 - val_accuracy: 0.8716\n",
            "Epoch 4/10\n",
            "938/938 [==============================] - 4s 4ms/step - loss: 0.2935 - accuracy: 0.8949 - val_loss: 0.3357 - val_accuracy: 0.8801\n",
            "Epoch 5/10\n",
            "938/938 [==============================] - 4s 4ms/step - loss: 0.2767 - accuracy: 0.9004 - val_loss: 0.3114 - val_accuracy: 0.8909\n",
            "Epoch 6/10\n",
            "938/938 [==============================] - 4s 4ms/step - loss: 0.2614 - accuracy: 0.9044 - val_loss: 0.3089 - val_accuracy: 0.8926\n",
            "Epoch 7/10\n",
            "938/938 [==============================] - 4s 4ms/step - loss: 0.2501 - accuracy: 0.9093 - val_loss: 0.3015 - val_accuracy: 0.8950\n",
            "Epoch 8/10\n",
            "938/938 [==============================] - 4s 4ms/step - loss: 0.2393 - accuracy: 0.9133 - val_loss: 0.3049 - val_accuracy: 0.8963\n",
            "Epoch 9/10\n",
            "938/938 [==============================] - 4s 4ms/step - loss: 0.2309 - accuracy: 0.9161 - val_loss: 0.3205 - val_accuracy: 0.8879\n",
            "Epoch 10/10\n",
            "938/938 [==============================] - 4s 4ms/step - loss: 0.2241 - accuracy: 0.9194 - val_loss: 0.3004 - val_accuracy: 0.8981\n"
          ],
          "name": "stdout"
        },
        {
          "output_type": "display_data",
          "data": {
            "image/png": "[encoded data removed]",
            "text/plain": [
              "<Figure size 432x288 with 1 Axes>"
            ]
          },
          "metadata": {
            "tags": [],
            "needs_background": "light"
          }
        }
      ]
    },
    {
      "cell_type": "markdown",
      "metadata": {
        "id": "TycrxcT7ILY4"
      },
      "source": [
        "## Evaluate Model Performance on Test Data"
      ]
    },
    {
      "cell_type": "code",
      "metadata": {
        "id": "5hoT5HGAIOHI",
        "outputId": "44e0d1fb-1fa7-4739-c467-5d4449bfa2b1",
        "colab": {
          "base_uri": "https://localhost:8080/",
          "height": 648
        }
      },
      "source": [
        "predictions = regular_model.predict(test_images)\n",
        "predictions = tf.nn.softmax(predictions)\n",
        "prediction_labels = np.argmax(predictions, axis=1)\n",
        "print(classification_report(test_labels, prediction_labels, target_names=class_names))\n",
        "pd.DataFrame(confusion_matrix(test_labels, prediction_labels), index=class_names, columns=class_names)"
      ],
      "execution_count": null,
      "outputs": [
        {
          "output_type": "stream",
          "text": [
            "              precision    recall  f1-score   support\n",
            "\n",
            " T-shirt/top       0.84      0.86      0.85      1000\n",
            "     Trouser       0.99      0.97      0.98      1000\n",
            "    Pullover       0.82      0.88      0.85      1000\n",
            "       Dress       0.91      0.87      0.89      1000\n",
            "        Coat       0.85      0.82      0.83      1000\n",
            "      Sandal       0.97      0.97      0.97      1000\n",
            "       Shirt       0.73      0.72      0.72      1000\n",
            "     Sneaker       0.97      0.92      0.95      1000\n",
            "         Bag       0.98      0.98      0.98      1000\n",
            "  Ankle boot       0.94      0.98      0.96      1000\n",
            "\n",
            "    accuracy                           0.90     10000\n",
            "   macro avg       0.90      0.90      0.90     10000\n",
            "weighted avg       0.90      0.90      0.90     10000\n",
            "\n"
          ],
          "name": "stdout"
        },
        {
          "output_type": "execute_result",
          "data": {
            "text/html": [
              "<div>\n",
              "<style scoped>\n",
              "    .dataframe tbody tr th:only-of-type {\n",
              "        vertical-align: middle;\n",
              "    }\n",
              "\n",
              "    .dataframe tbody tr th {\n",
              "        vertical-align: top;\n",
              "    }\n",
              "\n",
              "    .dataframe thead th {\n",
              "        text-align: right;\n",
              "    }\n",
              "</style>\n",
              "<table border=\"1\" class=\"dataframe\">\n",
              "  <thead>\n",
              "    <tr style=\"text-align: right;\">\n",
              "      <th></th>\n",
              "      <th>T-shirt/top</th>\n",
              "      <th>Trouser</th>\n",
              "      <th>Pullover</th>\n",
              "      <th>Dress</th>\n",
              "      <th>Coat</th>\n",
              "      <th>Sandal</th>\n",
              "      <th>Shirt</th>\n",
              "      <th>Sneaker</th>\n",
              "      <th>Bag</th>\n",
              "      <th>Ankle boot</th>\n",
              "    </tr>\n",
              "  </thead>\n",
              "  <tbody>\n",
              "    <tr>\n",
              "      <th>T-shirt/top</th>\n",
              "      <td>862</td>\n",
              "      <td>0</td>\n",
              "      <td>16</td>\n",
              "      <td>15</td>\n",
              "      <td>3</td>\n",
              "      <td>0</td>\n",
              "      <td>96</td>\n",
              "      <td>0</td>\n",
              "      <td>8</td>\n",
              "      <td>0</td>\n",
              "    </tr>\n",
              "    <tr>\n",
              "      <th>Trouser</th>\n",
              "      <td>2</td>\n",
              "      <td>975</td>\n",
              "      <td>1</td>\n",
              "      <td>14</td>\n",
              "      <td>3</td>\n",
              "      <td>0</td>\n",
              "      <td>3</td>\n",
              "      <td>0</td>\n",
              "      <td>2</td>\n",
              "      <td>0</td>\n",
              "    </tr>\n",
              "    <tr>\n",
              "      <th>Pullover</th>\n",
              "      <td>12</td>\n",
              "      <td>1</td>\n",
              "      <td>884</td>\n",
              "      <td>10</td>\n",
              "      <td>40</td>\n",
              "      <td>0</td>\n",
              "      <td>53</td>\n",
              "      <td>0</td>\n",
              "      <td>0</td>\n",
              "      <td>0</td>\n",
              "    </tr>\n",
              "    <tr>\n",
              "      <th>Dress</th>\n",
              "      <td>30</td>\n",
              "      <td>4</td>\n",
              "      <td>14</td>\n",
              "      <td>871</td>\n",
              "      <td>35</td>\n",
              "      <td>0</td>\n",
              "      <td>46</td>\n",
              "      <td>0</td>\n",
              "      <td>0</td>\n",
              "      <td>0</td>\n",
              "    </tr>\n",
              "    <tr>\n",
              "      <th>Coat</th>\n",
              "      <td>0</td>\n",
              "      <td>2</td>\n",
              "      <td>85</td>\n",
              "      <td>25</td>\n",
              "      <td>821</td>\n",
              "      <td>0</td>\n",
              "      <td>67</td>\n",
              "      <td>0</td>\n",
              "      <td>0</td>\n",
              "      <td>0</td>\n",
              "    </tr>\n",
              "    <tr>\n",
              "      <th>Sandal</th>\n",
              "      <td>0</td>\n",
              "      <td>0</td>\n",
              "      <td>0</td>\n",
              "      <td>0</td>\n",
              "      <td>0</td>\n",
              "      <td>972</td>\n",
              "      <td>0</td>\n",
              "      <td>9</td>\n",
              "      <td>1</td>\n",
              "      <td>18</td>\n",
              "    </tr>\n",
              "    <tr>\n",
              "      <th>Shirt</th>\n",
              "      <td>120</td>\n",
              "      <td>0</td>\n",
              "      <td>74</td>\n",
              "      <td>19</td>\n",
              "      <td>63</td>\n",
              "      <td>0</td>\n",
              "      <td>717</td>\n",
              "      <td>0</td>\n",
              "      <td>7</td>\n",
              "      <td>0</td>\n",
              "    </tr>\n",
              "    <tr>\n",
              "      <th>Sneaker</th>\n",
              "      <td>0</td>\n",
              "      <td>0</td>\n",
              "      <td>0</td>\n",
              "      <td>0</td>\n",
              "      <td>0</td>\n",
              "      <td>28</td>\n",
              "      <td>0</td>\n",
              "      <td>924</td>\n",
              "      <td>0</td>\n",
              "      <td>48</td>\n",
              "    </tr>\n",
              "    <tr>\n",
              "      <th>Bag</th>\n",
              "      <td>2</td>\n",
              "      <td>1</td>\n",
              "      <td>2</td>\n",
              "      <td>3</td>\n",
              "      <td>6</td>\n",
              "      <td>2</td>\n",
              "      <td>5</td>\n",
              "      <td>2</td>\n",
              "      <td>976</td>\n",
              "      <td>1</td>\n",
              "    </tr>\n",
              "    <tr>\n",
              "      <th>Ankle boot</th>\n",
              "      <td>1</td>\n",
              "      <td>0</td>\n",
              "      <td>0</td>\n",
              "      <td>0</td>\n",
              "      <td>0</td>\n",
              "      <td>4</td>\n",
              "      <td>0</td>\n",
              "      <td>16</td>\n",
              "      <td>0</td>\n",
              "      <td>979</td>\n",
              "    </tr>\n",
              "  </tbody>\n",
              "</table>\n",
              "</div>"
            ],
            "text/plain": [
              "             T-shirt/top  Trouser  Pullover  ...  Sneaker  Bag  Ankle boot\n",
              "T-shirt/top          862        0        16  ...        0    8           0\n",
              "Trouser                2      975         1  ...        0    2           0\n",
              "Pullover              12        1       884  ...        0    0           0\n",
              "Dress                 30        4        14  ...        0    0           0\n",
              "Coat                   0        2        85  ...        0    0           0\n",
              "Sandal                 0        0         0  ...        9    1          18\n",
              "Shirt                120        0        74  ...        0    7           0\n",
              "Sneaker                0        0         0  ...      924    0          48\n",
              "Bag                    2        1         2  ...        2  976           1\n",
              "Ankle boot             1        0         0  ...       16    0         979\n",
              "\n",
              "[10 rows x 10 columns]"
            ]
          },
          "metadata": {
            "tags": []
          },
          "execution_count": 11
        }
      ]
    },
    {
      "cell_type": "markdown",
      "metadata": {
        "id": "YaFPv-UoJaWQ"
      },
      "source": [
        "# Adversarial Attacks with Fast Gradient Sign Method (FGSM)\n",
        "\n",
        "## What is an adversarial example?\n",
        "\n",
        "Adversarial examples are specialised inputs created with the purpose of confusing a neural network, resulting in the misclassification of a given input. These notorious inputs are indistinguishable to the human eye, but cause the network to fail to identify the contents of the image. There are several types of such attacks, however, here the focus is on the fast gradient sign method attack, which is a *white box* attack whose goal is to ensure misclassification. A white box attack is where the attacker has complete access to the model being attacked. One of the most famous examples of an adversarial image shown below is taken from the aforementioned paper.\n",
        "\n",
        "![Adversarial Example](https://i.imgur.com/FyYq2Q0.png)\n",
        "\n",
        "Here, starting with the image of a panda, the attacker adds small perturbations (distortions) to the original image, which results in the model labelling this image as a gibbon, with high confidence. The process of adding these perturbations is explained below.\n",
        "\n",
        "## Fast gradient sign method\n",
        "\n",
        "The fast gradient sign method works by using the gradients of the neural network to create an adversarial example. For an input image, the method uses the gradients of the loss with respect to the input image to create a new image that maximises the loss. This new image is called the adversarial image. This can be summarised using the following expression:\n",
        "$$adv\\_x = x + \\epsilon*\\text{sign}(\\nabla_xJ(\\theta, x, y))$$\n",
        "\n",
        "where \n",
        "\n",
        "*   adv_x : Adversarial image.\n",
        "*   x : Original input image.\n",
        "*   y : Original input label.\n",
        "*   $\\epsilon$ : Multiplier to ensure the perturbations are small.\n",
        "*   $\\theta$ : Model parameters.\n",
        "*   $J$ : Loss.\n",
        "\n",
        "An intriguing property here, is the fact that the gradients are taken with respect to the input image. This is done because the objective is to create an image that maximises the loss. \n",
        "\n",
        "A method to accomplish this is to find how much each pixel in the image contributes to the loss value, and add a perturbation accordingly. \n",
        "\n",
        "This works pretty fast because it is easy to find how each input pixel contributes to the loss by using the chain rule and finding the required gradients. \n",
        "\n",
        "Hence, the gradients are taken with respect to the image. In addition, since the model is no longer being trained (thus the gradient is not taken with respect to the trainable variables, i.e., the model parameters), and so the model parameters remain constant. The only goal is to fool an already trained model.\n",
        "\n",
        "So let's try and fool our pretrained VGG19 model."
      ]
    },
    {
      "cell_type": "markdown",
      "metadata": {
        "id": "jKotaj4YJjSK"
      },
      "source": [
        "## Utility Functions for FGSM\n",
        "\n",
        "1. __`get_model_preds(...)`__: Helps in getting the top predicted class label and probability of an input image based on a specific trained CNN model\n",
        "\n",
        "2. __`generate_adverarial_pattern(...)`__: Helps in getting the gradients and the sign of the gradients w.r.t the input image and the trained CNN model\n",
        "\n",
        "3. __`perform_adversarial_attack_fgsm(...)`__: Create perturbations which will be used to distort the original image resulting in an adversarial image by adding epsilon to the gradient signs (can be added to gradients also) and then showcase model performance on the same"
      ]
    },
    {
      "cell_type": "code",
      "metadata": {
        "id": "Id6RtXMpIpwE"
      },
      "source": [
        "def get_model_preds(input_image, class_names_map, model):\n",
        "        logits = model.predict(input_image)\n",
        "        preds = tf.nn.softmax(logits)\n",
        "        top_idx = np.argsort(-preds)[0][0]\n",
        "        top_prob = -np.sort(-preds)[0][0]\n",
        "        top_class = np.array(class_names_map)[top_idx]\n",
        "        return top_class, top_prob\n",
        "\n",
        "\n",
        "def generate_adverarial_pattern(input_image, image_label_idx, model, loss_func):\n",
        "    with tf.GradientTape() as tape:\n",
        "        tape.watch(input_image)\n",
        "        prediction = model(input_image)\n",
        "        #prediction = tf.nn.softmax(prediction)\n",
        "        loss = loss_func(image_label_idx, prediction)\n",
        "    # Get the gradients of the loss w.r.t to the input image.\n",
        "    gradient = tape.gradient(loss, input_image)\n",
        "    # Get the sign of the gradients to create the perturbation\n",
        "    signed_grad = tf.sign(gradient)\n",
        "    return signed_grad\n",
        "\n",
        "\n",
        "def perform_adversarial_attack_fgsm(input_image, image_label_idx, cnn_model, class_names_map, loss_func, eps=0.01):\n",
        "    # basic image shaping\n",
        "    input_image = np.array([input_image])\n",
        "    tf_img = tf.convert_to_tensor(input_image)\n",
        "    # predict class before adversarial attack\n",
        "    ba_pred_class, ba_pred_prob = get_model_preds(tf_img, class_names_map, cnn_model)\n",
        "    # generate adversarial image\n",
        "    adv_pattern = generate_adverarial_pattern(tf_img, image_label_idx, cnn_model, loss_func)\n",
        "    clip_adv_pattern = tf.clip_by_value(adv_pattern, clip_value_min=0., clip_value_max=1.)\n",
        "\n",
        "    perturbed_img = tf_img + (eps * clip_adv_pattern)\n",
        "    perturbed_img = tf.clip_by_value(perturbed_img, clip_value_min=0., clip_value_max=1.)\n",
        "    # predict class after adversarial attack\n",
        "    aa_pred_class, aa_pred_prob = get_model_preds(perturbed_img, class_names_map, cnn_model)\n",
        "    \n",
        "    # visualize results\n",
        "    fig, ax = plt.subplots(1, 3, figsize=(15, 4))\n",
        "    ax[0].imshow(tf_img[0].numpy().squeeze(), cmap='gray')\n",
        "    ax[0].set_title('Before Adversarial Attack\\nTrue:{}  Pred:{}  Prob:{:.3f}'.format(class_names_map[image_label_idx],\n",
        "                                                                                      ba_pred_class,\n",
        "                                                                                      round(ba_pred_prob, 3)))\n",
        "    \n",
        "    ax[1].imshow(clip_adv_pattern[0].numpy().squeeze(), cmap='gray')\n",
        "    ax[1].set_title('Adverarial Pattern -  EPS:{}'.format(eps))\n",
        "    \n",
        "    ax[2].imshow(perturbed_img[0].numpy().squeeze(), cmap='gray')\n",
        "    ax[2].set_title('After Adversarial Attack\\nTrue:{}  Pred:{}  Prob:{:.3f}'.format(class_names_map[image_label_idx],\n",
        "                                                                                     aa_pred_class,\n",
        "                                                                                     aa_pred_prob))\n",
        "    \n"
      ],
      "execution_count": null,
      "outputs": []
    },
    {
      "cell_type": "markdown",
      "metadata": {
        "id": "bjkf0IjvJ2nn"
      },
      "source": [
        "## Adversarial Attack Examples"
      ]
    },
    {
      "cell_type": "code",
      "metadata": {
        "id": "KMsWBNviJ6Mr"
      },
      "source": [
        "# We want maximize the cross-entropy loss\n",
        "scc = tf.keras.losses.SparseCategoricalCrossentropy(from_logits=True)"
      ],
      "execution_count": null,
      "outputs": []
    },
    {
      "cell_type": "code",
      "metadata": {
        "id": "XSf6ysXAJvcp",
        "cellView": "both",
        "outputId": "1786ada1-7aea-4af7-e8c1-4275b916f613",
        "colab": {
          "base_uri": "https://localhost:8080/",
          "height": 296
        }
      },
      "source": [
        "sample_apparel_idx = 6\n",
        "sample_apparel_img =  test_images[sample_apparel_idx]\n",
        "sample_apparel_labelidx = test_labels[sample_apparel_idx]\n",
        "perform_adversarial_attack_fgsm(input_image=sample_apparel_img, \n",
        "                                image_label_idx=sample_apparel_labelidx, \n",
        "                                cnn_model=regular_model, class_names_map=class_names,\n",
        "                                loss_func=scc, eps=0.05)"
      ],
      "execution_count": null,
      "outputs": [
        {
          "output_type": "display_data",
          "data": {
            "image/png": "[encoded data removed]",
            "text/plain": [
              "<Figure size 1080x288 with 3 Axes>"
            ]
          },
          "metadata": {
            "tags": [],
            "needs_background": "light"
          }
        }
      ]
    },
    {
      "cell_type": "code",
      "metadata": {
        "id": "4oWmdEgAKb6r",
        "outputId": "6d2bd4f7-b55b-4a5e-8018-3b7a4636ebe0",
        "colab": {
          "base_uri": "https://localhost:8080/",
          "height": 296
        }
      },
      "source": [
        "sample_apparel_idx = 60\n",
        "sample_apparel_img =  test_images[sample_apparel_idx]\n",
        "sample_apparel_labelidx = test_labels[sample_apparel_idx]\n",
        "perform_adversarial_attack_fgsm(input_image=sample_apparel_img, \n",
        "                                image_label_idx=sample_apparel_labelidx, \n",
        "                                cnn_model=regular_model, class_names_map=class_names,\n",
        "                                loss_func=scc, eps=0.05)"
      ],
      "execution_count": null,
      "outputs": [
        {
          "output_type": "display_data",
          "data": {
            "image/png": "[encoded data removed]",
            "text/plain": [
              "<Figure size 1080x288 with 3 Axes>"
            ]
          },
          "metadata": {
            "tags": [],
            "needs_background": "light"
          }
        }
      ]
    },
    {
      "cell_type": "code",
      "metadata": {
        "id": "0Zq9u4B5K81c",
        "outputId": "880cc6e3-b6af-4268-9fa0-d270f65683dd",
        "colab": {
          "base_uri": "https://localhost:8080/",
          "height": 296
        }
      },
      "source": [
        "sample_apparel_idx = 560\n",
        "sample_apparel_img =  test_images[sample_apparel_idx]\n",
        "sample_apparel_labelidx = test_labels[sample_apparel_idx]\n",
        "perform_adversarial_attack_fgsm(input_image=sample_apparel_img, \n",
        "                                image_label_idx=sample_apparel_labelidx, \n",
        "                                cnn_model=regular_model, class_names_map=class_names,\n",
        "                                loss_func=scc, eps=0.05)"
      ],
      "execution_count": null,
      "outputs": [
        {
          "output_type": "display_data",
          "data": {
            "image/png": "[encoded data removed]",
            "text/plain": [
              "<Figure size 1080x288 with 3 Axes>"
            ]
          },
          "metadata": {
            "tags": [],
            "needs_background": "light"
          }
        }
      ]
    },
    {
      "cell_type": "code",
      "metadata": {
        "id": "WkiucKy9LAPK",
        "outputId": "3e186138-5ad8-46bd-eb2f-cbad68587326",
        "colab": {
          "base_uri": "https://localhost:8080/",
          "height": 296
        }
      },
      "source": [
        "sample_apparel_idx = 8\n",
        "sample_apparel_img =  test_images[sample_apparel_idx]\n",
        "sample_apparel_labelidx = test_labels[sample_apparel_idx]\n",
        "perform_adversarial_attack_fgsm(input_image=sample_apparel_img, \n",
        "                                image_label_idx=sample_apparel_labelidx, \n",
        "                                cnn_model=regular_model, class_names_map=class_names,\n",
        "                                loss_func=scc, eps=0.05)"
      ],
      "execution_count": null,
      "outputs": [
        {
          "output_type": "display_data",
          "data": {
            "image/png": "[encoded data removed]",
            "text/plain": [
              "<Figure size 1080x288 with 3 Axes>"
            ]
          },
          "metadata": {
            "tags": [],
            "needs_background": "light"
          }
        }
      ]
    },
    {
      "cell_type": "markdown",
      "metadata": {
        "id": "C3hWBmenLFSJ"
      },
      "source": [
        "## Generate Adversarial Attacks (FGSM) on Test Data to create Perturbed Test Dataset"
      ]
    },
    {
      "cell_type": "code",
      "metadata": {
        "id": "QV1RTYSLLDsr"
      },
      "source": [
        "def generate_perturbed_images(input_images, image_label_idxs, model, loss_func, eps=0.01):\n",
        "  perturbed_images = []\n",
        "  # don't use list on large data - used just to view fancy progress-bar\n",
        "  for image, label in tqdm(list(zip(input_images, image_label_idxs))): \n",
        "      image = tf.convert_to_tensor(np.array([image]))\n",
        "      adv_pattern = generate_adverarial_pattern(image, label, model, loss_func)\n",
        "      clip_adv_pattern = tf.clip_by_value(adv_pattern, clip_value_min=0., clip_value_max=1.)\n",
        "      perturbed_img = image + (eps * clip_adv_pattern)\n",
        "      perturbed_img = tf.clip_by_value(perturbed_img, clip_value_min=0., clip_value_max=1.)[0]\n",
        "      perturbed_images.append(perturbed_img)\n",
        "\n",
        "  return tf.convert_to_tensor(perturbed_images)"
      ],
      "execution_count": null,
      "outputs": []
    },
    {
      "cell_type": "code",
      "metadata": {
        "id": "FHHEuEAoLKDE",
        "outputId": "21995ded-188b-4353-dc9d-6b4b656a65b3",
        "colab": {
          "base_uri": "https://localhost:8080/",
          "height": 34
        }
      },
      "source": [
        "perturbed_test_imgs = generate_perturbed_images(input_images=test_images, \n",
        "                                                image_label_idxs=test_labels, model=regular_model, \n",
        "                                                loss_func=scc, eps=0.05)"
      ],
      "execution_count": null,
      "outputs": [
        {
          "output_type": "stream",
          "text": [
            "100%|██████████| 10000/10000 [01:04<00:00, 154.90it/s]\n"
          ],
          "name": "stderr"
        }
      ]
    },
    {
      "cell_type": "code",
      "metadata": {
        "id": "qkdISaFFLaz-",
        "outputId": "0ac2e5be-dbd6-49b5-c197-68dc7f57bada",
        "colab": {
          "base_uri": "https://localhost:8080/",
          "height": 648
        }
      },
      "source": [
        "predictions = regular_model.predict(perturbed_test_imgs)\n",
        "predictions = tf.nn.softmax(predictions)\n",
        "prediction_labels = np.argmax(predictions, axis=1)\n",
        "print(classification_report(test_labels, prediction_labels, target_names=class_names))\n",
        "pd.DataFrame(confusion_matrix(test_labels, prediction_labels), index=class_names, columns=class_names)"
      ],
      "execution_count": null,
      "outputs": [
        {
          "output_type": "stream",
          "text": [
            "              precision    recall  f1-score   support\n",
            "\n",
            " T-shirt/top       0.26      0.21      0.23      1000\n",
            "     Trouser       0.90      0.90      0.90      1000\n",
            "    Pullover       0.16      0.14      0.15      1000\n",
            "       Dress       0.52      0.29      0.37      1000\n",
            "        Coat       0.13      0.12      0.13      1000\n",
            "      Sandal       0.61      0.50      0.55      1000\n",
            "       Shirt       0.03      0.05      0.03      1000\n",
            "     Sneaker       0.42      0.26      0.32      1000\n",
            "         Bag       0.77      0.73      0.75      1000\n",
            "  Ankle boot       0.55      0.78      0.64      1000\n",
            "\n",
            "    accuracy                           0.40     10000\n",
            "   macro avg       0.43      0.40      0.41     10000\n",
            "weighted avg       0.43      0.40      0.41     10000\n",
            "\n"
          ],
          "name": "stdout"
        },
        {
          "output_type": "execute_result",
          "data": {
            "text/html": [
              "<div>\n",
              "<style scoped>\n",
              "    .dataframe tbody tr th:only-of-type {\n",
              "        vertical-align: middle;\n",
              "    }\n",
              "\n",
              "    .dataframe tbody tr th {\n",
              "        vertical-align: top;\n",
              "    }\n",
              "\n",
              "    .dataframe thead th {\n",
              "        text-align: right;\n",
              "    }\n",
              "</style>\n",
              "<table border=\"1\" class=\"dataframe\">\n",
              "  <thead>\n",
              "    <tr style=\"text-align: right;\">\n",
              "      <th></th>\n",
              "      <th>T-shirt/top</th>\n",
              "      <th>Trouser</th>\n",
              "      <th>Pullover</th>\n",
              "      <th>Dress</th>\n",
              "      <th>Coat</th>\n",
              "      <th>Sandal</th>\n",
              "      <th>Shirt</th>\n",
              "      <th>Sneaker</th>\n",
              "      <th>Bag</th>\n",
              "      <th>Ankle boot</th>\n",
              "    </tr>\n",
              "  </thead>\n",
              "  <tbody>\n",
              "    <tr>\n",
              "      <th>T-shirt/top</th>\n",
              "      <td>214</td>\n",
              "      <td>3</td>\n",
              "      <td>48</td>\n",
              "      <td>51</td>\n",
              "      <td>9</td>\n",
              "      <td>1</td>\n",
              "      <td>658</td>\n",
              "      <td>0</td>\n",
              "      <td>15</td>\n",
              "      <td>1</td>\n",
              "    </tr>\n",
              "    <tr>\n",
              "      <th>Trouser</th>\n",
              "      <td>11</td>\n",
              "      <td>902</td>\n",
              "      <td>6</td>\n",
              "      <td>53</td>\n",
              "      <td>9</td>\n",
              "      <td>0</td>\n",
              "      <td>15</td>\n",
              "      <td>0</td>\n",
              "      <td>4</td>\n",
              "      <td>0</td>\n",
              "    </tr>\n",
              "    <tr>\n",
              "      <th>Pullover</th>\n",
              "      <td>14</td>\n",
              "      <td>5</td>\n",
              "      <td>142</td>\n",
              "      <td>12</td>\n",
              "      <td>278</td>\n",
              "      <td>0</td>\n",
              "      <td>544</td>\n",
              "      <td>0</td>\n",
              "      <td>5</td>\n",
              "      <td>0</td>\n",
              "    </tr>\n",
              "    <tr>\n",
              "      <th>Dress</th>\n",
              "      <td>248</td>\n",
              "      <td>68</td>\n",
              "      <td>32</td>\n",
              "      <td>291</td>\n",
              "      <td>145</td>\n",
              "      <td>0</td>\n",
              "      <td>208</td>\n",
              "      <td>0</td>\n",
              "      <td>8</td>\n",
              "      <td>0</td>\n",
              "    </tr>\n",
              "    <tr>\n",
              "      <th>Coat</th>\n",
              "      <td>5</td>\n",
              "      <td>14</td>\n",
              "      <td>388</td>\n",
              "      <td>87</td>\n",
              "      <td>122</td>\n",
              "      <td>1</td>\n",
              "      <td>380</td>\n",
              "      <td>0</td>\n",
              "      <td>3</td>\n",
              "      <td>0</td>\n",
              "    </tr>\n",
              "    <tr>\n",
              "      <th>Sandal</th>\n",
              "      <td>1</td>\n",
              "      <td>4</td>\n",
              "      <td>0</td>\n",
              "      <td>0</td>\n",
              "      <td>0</td>\n",
              "      <td>502</td>\n",
              "      <td>4</td>\n",
              "      <td>175</td>\n",
              "      <td>129</td>\n",
              "      <td>185</td>\n",
              "    </tr>\n",
              "    <tr>\n",
              "      <th>Shirt</th>\n",
              "      <td>306</td>\n",
              "      <td>4</td>\n",
              "      <td>258</td>\n",
              "      <td>34</td>\n",
              "      <td>326</td>\n",
              "      <td>0</td>\n",
              "      <td>49</td>\n",
              "      <td>0</td>\n",
              "      <td>22</td>\n",
              "      <td>1</td>\n",
              "    </tr>\n",
              "    <tr>\n",
              "      <th>Sneaker</th>\n",
              "      <td>0</td>\n",
              "      <td>0</td>\n",
              "      <td>0</td>\n",
              "      <td>0</td>\n",
              "      <td>0</td>\n",
              "      <td>263</td>\n",
              "      <td>0</td>\n",
              "      <td>259</td>\n",
              "      <td>30</td>\n",
              "      <td>448</td>\n",
              "    </tr>\n",
              "    <tr>\n",
              "      <th>Bag</th>\n",
              "      <td>36</td>\n",
              "      <td>3</td>\n",
              "      <td>29</td>\n",
              "      <td>31</td>\n",
              "      <td>46</td>\n",
              "      <td>23</td>\n",
              "      <td>94</td>\n",
              "      <td>4</td>\n",
              "      <td>731</td>\n",
              "      <td>3</td>\n",
              "    </tr>\n",
              "    <tr>\n",
              "      <th>Ankle boot</th>\n",
              "      <td>1</td>\n",
              "      <td>0</td>\n",
              "      <td>0</td>\n",
              "      <td>0</td>\n",
              "      <td>0</td>\n",
              "      <td>34</td>\n",
              "      <td>0</td>\n",
              "      <td>181</td>\n",
              "      <td>8</td>\n",
              "      <td>776</td>\n",
              "    </tr>\n",
              "  </tbody>\n",
              "</table>\n",
              "</div>"
            ],
            "text/plain": [
              "             T-shirt/top  Trouser  Pullover  ...  Sneaker  Bag  Ankle boot\n",
              "T-shirt/top          214        3        48  ...        0   15           1\n",
              "Trouser               11      902         6  ...        0    4           0\n",
              "Pullover              14        5       142  ...        0    5           0\n",
              "Dress                248       68        32  ...        0    8           0\n",
              "Coat                   5       14       388  ...        0    3           0\n",
              "Sandal                 1        4         0  ...      175  129         185\n",
              "Shirt                306        4       258  ...        0   22           1\n",
              "Sneaker                0        0         0  ...      259   30         448\n",
              "Bag                   36        3        29  ...        4  731           3\n",
              "Ankle boot             1        0         0  ...      181    8         776\n",
              "\n",
              "[10 rows x 10 columns]"
            ]
          },
          "metadata": {
            "tags": []
          },
          "execution_count": 27
        }
      ]
    },
    {
      "cell_type": "markdown",
      "metadata": {
        "id": "JFLA5TnuMPIM"
      },
      "source": [
        "The performance (validation accuracy) of our shallow CNN model gets down to 40%. So, this begs the following the question - \n",
        "\n",
        "> *Can't we just train a model on an adversarially perturbed dataset?* \n",
        "\n",
        "This is what we are gonna do next in [this notebook](https://github.com/dipanjanS/adversarial-learning-robustness/blob/main/tutorials/adversarial_training/01_1_adv_training_scratch.ipynb). "
      ]
    }
  ]
}